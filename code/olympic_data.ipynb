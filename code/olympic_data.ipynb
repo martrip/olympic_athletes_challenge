{
 "cells": [
  {
   "cell_type": "markdown",
   "metadata": {
    "id": "XrbpVA0XE560"
   },
   "source": [
    "# Olympic Athletes\n",
    "You will be working with a historical dataset on the modern Olympic Games, which includes all the games from Athens 1896 to Rio 2016. The data was scraped from www.sports-reference.com in May 2018.\n",
    "\n",
    "\n",
    "The dataset athlete_events.csv contains 271’116 rows and 15 columns. Each row corresponds to an individual athlete competing in an individual Olympic event. Can you predict who will win?\n",
    "\n",
    "\n",
    "The features:\n",
    "- ID - Unique number for each athlete\n",
    "- Name - Athlete’s name\n",
    "- Sex - M or F\n",
    "- Age - Integer\n",
    "- Height - In centimeters\n",
    "- Weight - In kilograms\n",
    "- Team - Team name\n",
    "- NOC - National Olympic Committee 3-letter code\n",
    "- Games - Year and season\n",
    "- Year - Integer\n",
    "- Season - Summer or Winter\n",
    "- City - Host city\n",
    "- Sport - Sport\n",
    "- Event - Event\n",
    "- Medal - Gold, Silver, Bronze, or NA"
   ]
  },
  {
   "cell_type": "markdown",
   "metadata": {
    "id": "QxNtkbikFQsq"
   },
   "source": [
    "# Data"
   ]
  },
  {
   "cell_type": "markdown",
   "metadata": {
    "id": "Dw5BgMWpCOVg"
   },
   "source": [
    "## Import dependencies"
   ]
  },
  {
   "cell_type": "code",
   "execution_count": null,
   "metadata": {
    "colab": {
     "base_uri": "https://localhost:8080/"
    },
    "id": "oeY8Q1YXEt0b",
    "outputId": "9f7000c3-4619-4b7f-e098-ffbd915043a0"
   },
   "outputs": [
    {
     "name": "stdout",
     "output_type": "stream",
     "text": [
      "Collecting pycaret\n",
      "  Downloading pycaret-2.3.4-py3-none-any.whl (266 kB)\n",
      "\u001b[K     |████████████████████████████████| 266 kB 14.6 MB/s eta 0:00:01\n",
      "\u001b[?25hCollecting umap-learn\n",
      "  Downloading umap-learn-0.5.1.tar.gz (80 kB)\n",
      "\u001b[K     |████████████████████████████████| 80 kB 11.5 MB/s \n",
      "\u001b[?25hCollecting pyLDAvis\n",
      "  Downloading pyLDAvis-3.3.1.tar.gz (1.7 MB)\n",
      "\u001b[K     |████████████████████████████████| 1.7 MB 58.8 MB/s \n",
      "\u001b[?25h  Installing build dependencies ... \u001b[?25l\u001b[?25hdone\n",
      "  Getting requirements to build wheel ... \u001b[?25l\u001b[?25hdone\n",
      "  Installing backend dependencies ... \u001b[?25l\u001b[?25hdone\n",
      "    Preparing wheel metadata ... \u001b[?25l\u001b[?25hdone\n",
      "Requirement already satisfied: spacy<2.4.0 in /usr/local/lib/python3.7/dist-packages (from pycaret) (2.2.4)\n",
      "Requirement already satisfied: pandas in /usr/local/lib/python3.7/dist-packages (from pycaret) (1.1.5)\n",
      "Collecting mlflow\n",
      "  Downloading mlflow-1.20.2-py3-none-any.whl (14.6 MB)\n",
      "\u001b[K     |████████████████████████████████| 14.6 MB 62.3 MB/s \n",
      "\u001b[?25hCollecting kmodes>=0.10.1\n",
      "  Downloading kmodes-0.11.1-py2.py3-none-any.whl (19 kB)\n",
      "Collecting Boruta\n",
      "  Downloading Boruta-0.3-py3-none-any.whl (56 kB)\n",
      "\u001b[K     |████████████████████████████████| 56 kB 6.9 MB/s \n",
      "\u001b[?25hCollecting scikit-learn==0.23.2\n",
      "  Downloading scikit_learn-0.23.2-cp37-cp37m-manylinux1_x86_64.whl (6.8 MB)\n",
      "\u001b[K     |████████████████████████████████| 6.8 MB 62.6 MB/s \n",
      "\u001b[?25hRequirement already satisfied: seaborn in /usr/local/lib/python3.7/dist-packages (from pycaret) (0.11.2)\n",
      "Collecting lightgbm>=2.3.1\n",
      "  Downloading lightgbm-3.3.0-py3-none-manylinux1_x86_64.whl (2.0 MB)\n",
      "\u001b[K     |████████████████████████████████| 2.0 MB 62.8 MB/s \n",
      "\u001b[?25hRequirement already satisfied: gensim<4.0.0 in /usr/local/lib/python3.7/dist-packages (from pycaret) (3.6.0)\n",
      "Requirement already satisfied: joblib in /usr/local/lib/python3.7/dist-packages (from pycaret) (1.0.1)\n",
      "Requirement already satisfied: wordcloud in /usr/local/lib/python3.7/dist-packages (from pycaret) (1.5.0)\n",
      "Collecting mlxtend>=0.17.0\n",
      "  Downloading mlxtend-0.19.0-py2.py3-none-any.whl (1.3 MB)\n",
      "\u001b[K     |████████████████████████████████| 1.3 MB 61.6 MB/s \n",
      "\u001b[?25hRequirement already satisfied: textblob in /usr/local/lib/python3.7/dist-packages (from pycaret) (0.15.3)\n",
      "Requirement already satisfied: numpy==1.19.5 in /usr/local/lib/python3.7/dist-packages (from pycaret) (1.19.5)\n",
      "Collecting yellowbrick>=1.0.1\n",
      "  Downloading yellowbrick-1.3.post1-py3-none-any.whl (271 kB)\n",
      "\u001b[K     |████████████████████████████████| 271 kB 66.5 MB/s \n",
      "\u001b[?25hRequirement already satisfied: nltk in /usr/local/lib/python3.7/dist-packages (from pycaret) (3.2.5)\n",
      "Requirement already satisfied: IPython in /usr/local/lib/python3.7/dist-packages (from pycaret) (5.5.0)\n",
      "Requirement already satisfied: cufflinks>=0.17.0 in /usr/local/lib/python3.7/dist-packages (from pycaret) (0.17.3)\n",
      "Requirement already satisfied: numba<0.54 in /usr/local/lib/python3.7/dist-packages (from pycaret) (0.51.2)\n",
      "Requirement already satisfied: scipy<=1.5.4 in /usr/local/lib/python3.7/dist-packages (from pycaret) (1.4.1)\n",
      "Requirement already satisfied: ipywidgets in /usr/local/lib/python3.7/dist-packages (from pycaret) (7.6.5)\n",
      "Requirement already satisfied: matplotlib in /usr/local/lib/python3.7/dist-packages (from pycaret) (3.2.2)\n",
      "Collecting imbalanced-learn==0.7.0\n",
      "  Downloading imbalanced_learn-0.7.0-py3-none-any.whl (167 kB)\n",
      "\u001b[K     |████████████████████████████████| 167 kB 73.2 MB/s \n",
      "\u001b[?25hCollecting scikit-plot\n",
      "  Downloading scikit_plot-0.3.7-py3-none-any.whl (33 kB)\n",
      "Collecting pyod\n",
      "  Downloading pyod-0.9.4.tar.gz (111 kB)\n",
      "\u001b[K     |████████████████████████████████| 111 kB 76.4 MB/s \n",
      "\u001b[?25hCollecting pandas-profiling>=2.8.0\n",
      "  Downloading pandas_profiling-3.1.0-py2.py3-none-any.whl (261 kB)\n",
      "\u001b[K     |████████████████████████████████| 261 kB 68.1 MB/s \n",
      "\u001b[?25hRequirement already satisfied: plotly>=4.4.1 in /usr/local/lib/python3.7/dist-packages (from pycaret) (4.4.1)\n",
      "Collecting threadpoolctl>=2.0.0\n",
      "  Downloading threadpoolctl-3.0.0-py3-none-any.whl (14 kB)\n",
      "Requirement already satisfied: six>=1.9.0 in /usr/local/lib/python3.7/dist-packages (from cufflinks>=0.17.0->pycaret) (1.15.0)\n",
      "Requirement already satisfied: colorlover>=0.2.1 in /usr/local/lib/python3.7/dist-packages (from cufflinks>=0.17.0->pycaret) (0.3.0)\n",
      "Requirement already satisfied: setuptools>=34.4.1 in /usr/local/lib/python3.7/dist-packages (from cufflinks>=0.17.0->pycaret) (57.4.0)\n",
      "Requirement already satisfied: smart-open>=1.2.1 in /usr/local/lib/python3.7/dist-packages (from gensim<4.0.0->pycaret) (5.2.1)\n",
      "Requirement already satisfied: simplegeneric>0.8 in /usr/local/lib/python3.7/dist-packages (from IPython->pycaret) (0.8.1)\n",
      "Requirement already satisfied: pickleshare in /usr/local/lib/python3.7/dist-packages (from IPython->pycaret) (0.7.5)\n",
      "Requirement already satisfied: pexpect in /usr/local/lib/python3.7/dist-packages (from IPython->pycaret) (4.8.0)\n",
      "Requirement already satisfied: prompt-toolkit<2.0.0,>=1.0.4 in /usr/local/lib/python3.7/dist-packages (from IPython->pycaret) (1.0.18)\n",
      "Requirement already satisfied: pygments in /usr/local/lib/python3.7/dist-packages (from IPython->pycaret) (2.6.1)\n",
      "Requirement already satisfied: traitlets>=4.2 in /usr/local/lib/python3.7/dist-packages (from IPython->pycaret) (5.1.0)\n",
      "Requirement already satisfied: decorator in /usr/local/lib/python3.7/dist-packages (from IPython->pycaret) (4.4.2)\n",
      "Requirement already satisfied: widgetsnbextension~=3.5.0 in /usr/local/lib/python3.7/dist-packages (from ipywidgets->pycaret) (3.5.1)\n",
      "Requirement already satisfied: jupyterlab-widgets>=1.0.0 in /usr/local/lib/python3.7/dist-packages (from ipywidgets->pycaret) (1.0.2)\n",
      "Requirement already satisfied: ipykernel>=4.5.1 in /usr/local/lib/python3.7/dist-packages (from ipywidgets->pycaret) (4.10.1)\n",
      "Requirement already satisfied: nbformat>=4.2.0 in /usr/local/lib/python3.7/dist-packages (from ipywidgets->pycaret) (5.1.3)\n",
      "Requirement already satisfied: ipython-genutils~=0.2.0 in /usr/local/lib/python3.7/dist-packages (from ipywidgets->pycaret) (0.2.0)\n",
      "Requirement already satisfied: tornado>=4.0 in /usr/local/lib/python3.7/dist-packages (from ipykernel>=4.5.1->ipywidgets->pycaret) (5.1.1)\n",
      "Requirement already satisfied: jupyter-client in /usr/local/lib/python3.7/dist-packages (from ipykernel>=4.5.1->ipywidgets->pycaret) (5.3.5)\n",
      "Requirement already satisfied: wheel in /usr/local/lib/python3.7/dist-packages (from lightgbm>=2.3.1->pycaret) (0.37.0)\n",
      "Requirement already satisfied: cycler>=0.10 in /usr/local/lib/python3.7/dist-packages (from matplotlib->pycaret) (0.10.0)\n",
      "Requirement already satisfied: pyparsing!=2.0.4,!=2.1.2,!=2.1.6,>=2.0.1 in /usr/local/lib/python3.7/dist-packages (from matplotlib->pycaret) (2.4.7)\n",
      "Requirement already satisfied: python-dateutil>=2.1 in /usr/local/lib/python3.7/dist-packages (from matplotlib->pycaret) (2.8.2)\n",
      "Requirement already satisfied: kiwisolver>=1.0.1 in /usr/local/lib/python3.7/dist-packages (from matplotlib->pycaret) (1.3.2)\n",
      "Requirement already satisfied: jupyter-core in /usr/local/lib/python3.7/dist-packages (from nbformat>=4.2.0->ipywidgets->pycaret) (4.8.1)\n",
      "Requirement already satisfied: jsonschema!=2.5.0,>=2.4 in /usr/local/lib/python3.7/dist-packages (from nbformat>=4.2.0->ipywidgets->pycaret) (2.6.0)\n",
      "Requirement already satisfied: llvmlite<0.35,>=0.34.0.dev0 in /usr/local/lib/python3.7/dist-packages (from numba<0.54->pycaret) (0.34.0)\n",
      "Requirement already satisfied: pytz>=2017.2 in /usr/local/lib/python3.7/dist-packages (from pandas->pycaret) (2018.9)\n",
      "Collecting visions[type_image_path]==0.7.4\n",
      "  Downloading visions-0.7.4-py3-none-any.whl (102 kB)\n",
      "\u001b[K     |████████████████████████████████| 102 kB 15.8 MB/s \n",
      "\u001b[?25hCollecting requests>=2.24.0\n",
      "  Downloading requests-2.26.0-py2.py3-none-any.whl (62 kB)\n",
      "\u001b[K     |████████████████████████████████| 62 kB 1.2 MB/s \n",
      "\u001b[?25hCollecting phik>=0.11.1\n",
      "  Downloading phik-0.12.0-cp37-cp37m-manylinux2010_x86_64.whl (675 kB)\n",
      "\u001b[K     |████████████████████████████████| 675 kB 66.5 MB/s \n",
      "\u001b[?25hCollecting tangled-up-in-unicode==0.1.0\n",
      "  Downloading tangled_up_in_unicode-0.1.0-py3-none-any.whl (3.1 MB)\n",
      "\u001b[K     |████████████████████████████████| 3.1 MB 65.1 MB/s \n",
      "\u001b[?25hCollecting multimethod>=1.4\n",
      "  Downloading multimethod-1.6-py3-none-any.whl (9.4 kB)\n",
      "Requirement already satisfied: jinja2>=2.11.1 in /usr/local/lib/python3.7/dist-packages (from pandas-profiling>=2.8.0->pycaret) (2.11.3)\n",
      "Requirement already satisfied: markupsafe~=2.0.1 in /usr/local/lib/python3.7/dist-packages (from pandas-profiling>=2.8.0->pycaret) (2.0.1)\n",
      "Collecting htmlmin>=0.1.12\n",
      "  Downloading htmlmin-0.1.12.tar.gz (19 kB)\n",
      "Collecting pydantic>=1.8.1\n",
      "  Downloading pydantic-1.8.2-cp37-cp37m-manylinux2014_x86_64.whl (10.1 MB)\n",
      "\u001b[K     |████████████████████████████████| 10.1 MB 36.1 MB/s \n",
      "\u001b[?25hRequirement already satisfied: tqdm>=4.48.2 in /usr/local/lib/python3.7/dist-packages (from pandas-profiling>=2.8.0->pycaret) (4.62.3)\n",
      "Collecting PyYAML>=5.0.0\n",
      "  Downloading PyYAML-6.0-cp37-cp37m-manylinux_2_5_x86_64.manylinux1_x86_64.manylinux_2_12_x86_64.manylinux2010_x86_64.whl (596 kB)\n",
      "\u001b[K     |████████████████████████████████| 596 kB 63.5 MB/s \n",
      "\u001b[?25hRequirement already satisfied: missingno>=0.4.2 in /usr/local/lib/python3.7/dist-packages (from pandas-profiling>=2.8.0->pycaret) (0.5.0)\n",
      "Requirement already satisfied: networkx>=2.4 in /usr/local/lib/python3.7/dist-packages (from visions[type_image_path]==0.7.4->pandas-profiling>=2.8.0->pycaret) (2.6.3)\n",
      "Requirement already satisfied: attrs>=19.3.0 in /usr/local/lib/python3.7/dist-packages (from visions[type_image_path]==0.7.4->pandas-profiling>=2.8.0->pycaret) (21.2.0)\n",
      "Requirement already satisfied: Pillow in /usr/local/lib/python3.7/dist-packages (from visions[type_image_path]==0.7.4->pandas-profiling>=2.8.0->pycaret) (7.1.2)\n",
      "Collecting imagehash\n",
      "  Downloading ImageHash-4.2.1.tar.gz (812 kB)\n",
      "\u001b[K     |████████████████████████████████| 812 kB 62.6 MB/s \n",
      "\u001b[?25hCollecting scipy<=1.5.4\n",
      "  Downloading scipy-1.5.4-cp37-cp37m-manylinux1_x86_64.whl (25.9 MB)\n",
      "\u001b[K     |████████████████████████████████| 25.9 MB 1.1 kB/s \n",
      "\u001b[?25hRequirement already satisfied: retrying>=1.3.3 in /usr/local/lib/python3.7/dist-packages (from plotly>=4.4.1->pycaret) (1.3.3)\n",
      "Requirement already satisfied: wcwidth in /usr/local/lib/python3.7/dist-packages (from prompt-toolkit<2.0.0,>=1.0.4->IPython->pycaret) (0.2.5)\n",
      "Requirement already satisfied: typing-extensions>=3.7.4.3 in /usr/local/lib/python3.7/dist-packages (from pydantic>=1.8.1->pandas-profiling>=2.8.0->pycaret) (3.7.4.3)\n",
      "Requirement already satisfied: urllib3<1.27,>=1.21.1 in /usr/local/lib/python3.7/dist-packages (from requests>=2.24.0->pandas-profiling>=2.8.0->pycaret) (1.24.3)\n",
      "Requirement already satisfied: certifi>=2017.4.17 in /usr/local/lib/python3.7/dist-packages (from requests>=2.24.0->pandas-profiling>=2.8.0->pycaret) (2021.5.30)\n",
      "Requirement already satisfied: charset-normalizer~=2.0.0 in /usr/local/lib/python3.7/dist-packages (from requests>=2.24.0->pandas-profiling>=2.8.0->pycaret) (2.0.6)\n",
      "Requirement already satisfied: idna<4,>=2.5 in /usr/local/lib/python3.7/dist-packages (from requests>=2.24.0->pandas-profiling>=2.8.0->pycaret) (2.10)\n",
      "Requirement already satisfied: wasabi<1.1.0,>=0.4.0 in /usr/local/lib/python3.7/dist-packages (from spacy<2.4.0->pycaret) (0.8.2)\n",
      "Requirement already satisfied: cymem<2.1.0,>=2.0.2 in /usr/local/lib/python3.7/dist-packages (from spacy<2.4.0->pycaret) (2.0.5)\n",
      "Requirement already satisfied: blis<0.5.0,>=0.4.0 in /usr/local/lib/python3.7/dist-packages (from spacy<2.4.0->pycaret) (0.4.1)\n",
      "Requirement already satisfied: plac<1.2.0,>=0.9.6 in /usr/local/lib/python3.7/dist-packages (from spacy<2.4.0->pycaret) (1.1.3)\n",
      "Requirement already satisfied: murmurhash<1.1.0,>=0.28.0 in /usr/local/lib/python3.7/dist-packages (from spacy<2.4.0->pycaret) (1.0.5)\n",
      "Requirement already satisfied: thinc==7.4.0 in /usr/local/lib/python3.7/dist-packages (from spacy<2.4.0->pycaret) (7.4.0)\n",
      "Requirement already satisfied: catalogue<1.1.0,>=0.0.7 in /usr/local/lib/python3.7/dist-packages (from spacy<2.4.0->pycaret) (1.0.0)\n",
      "Requirement already satisfied: preshed<3.1.0,>=3.0.2 in /usr/local/lib/python3.7/dist-packages (from spacy<2.4.0->pycaret) (3.0.5)\n",
      "Requirement already satisfied: srsly<1.1.0,>=1.0.2 in /usr/local/lib/python3.7/dist-packages (from spacy<2.4.0->pycaret) (1.0.5)\n",
      "Requirement already satisfied: importlib-metadata>=0.20 in /usr/local/lib/python3.7/dist-packages (from catalogue<1.1.0,>=0.0.7->spacy<2.4.0->pycaret) (4.8.1)\n",
      "Requirement already satisfied: zipp>=0.5 in /usr/local/lib/python3.7/dist-packages (from importlib-metadata>=0.20->catalogue<1.1.0,>=0.0.7->spacy<2.4.0->pycaret) (3.6.0)\n",
      "Requirement already satisfied: notebook>=4.4.1 in /usr/local/lib/python3.7/dist-packages (from widgetsnbextension~=3.5.0->ipywidgets->pycaret) (5.3.1)\n",
      "Requirement already satisfied: nbconvert in /usr/local/lib/python3.7/dist-packages (from notebook>=4.4.1->widgetsnbextension~=3.5.0->ipywidgets->pycaret) (5.6.1)\n",
      "Requirement already satisfied: terminado>=0.8.1 in /usr/local/lib/python3.7/dist-packages (from notebook>=4.4.1->widgetsnbextension~=3.5.0->ipywidgets->pycaret) (0.12.1)\n",
      "Requirement already satisfied: Send2Trash in /usr/local/lib/python3.7/dist-packages (from notebook>=4.4.1->widgetsnbextension~=3.5.0->ipywidgets->pycaret) (1.8.0)\n",
      "Requirement already satisfied: pyzmq>=13 in /usr/local/lib/python3.7/dist-packages (from jupyter-client->ipykernel>=4.5.1->ipywidgets->pycaret) (22.3.0)\n",
      "Requirement already satisfied: ptyprocess in /usr/local/lib/python3.7/dist-packages (from terminado>=0.8.1->notebook>=4.4.1->widgetsnbextension~=3.5.0->ipywidgets->pycaret) (0.7.0)\n",
      "Requirement already satisfied: PyWavelets in /usr/local/lib/python3.7/dist-packages (from imagehash->visions[type_image_path]==0.7.4->pandas-profiling>=2.8.0->pycaret) (1.1.1)\n",
      "Requirement already satisfied: cloudpickle in /usr/local/lib/python3.7/dist-packages (from mlflow->pycaret) (1.3.0)\n",
      "Requirement already satisfied: sqlalchemy in /usr/local/lib/python3.7/dist-packages (from mlflow->pycaret) (1.4.25)\n",
      "Requirement already satisfied: sqlparse>=0.3.1 in /usr/local/lib/python3.7/dist-packages (from mlflow->pycaret) (0.4.2)\n",
      "Collecting alembic<=1.4.1\n",
      "  Downloading alembic-1.4.1.tar.gz (1.1 MB)\n",
      "\u001b[K     |████████████████████████████████| 1.1 MB 59.7 MB/s \n",
      "\u001b[?25hRequirement already satisfied: click>=7.0 in /usr/local/lib/python3.7/dist-packages (from mlflow->pycaret) (7.1.2)\n",
      "Collecting querystring-parser\n",
      "  Downloading querystring_parser-1.2.4-py2.py3-none-any.whl (7.9 kB)\n",
      "Collecting gitpython>=2.1.0\n",
      "  Downloading GitPython-3.1.24-py3-none-any.whl (180 kB)\n",
      "\u001b[K     |████████████████████████████████| 180 kB 56.3 MB/s \n",
      "\u001b[?25hRequirement already satisfied: packaging in /usr/local/lib/python3.7/dist-packages (from mlflow->pycaret) (21.0)\n",
      "Requirement already satisfied: entrypoints in /usr/local/lib/python3.7/dist-packages (from mlflow->pycaret) (0.3)\n",
      "Collecting gunicorn\n",
      "  Downloading gunicorn-20.1.0-py3-none-any.whl (79 kB)\n",
      "\u001b[K     |████████████████████████████████| 79 kB 11.3 MB/s \n",
      "\u001b[?25hRequirement already satisfied: Flask in /usr/local/lib/python3.7/dist-packages (from mlflow->pycaret) (1.1.4)\n",
      "Collecting databricks-cli>=0.8.7\n",
      "  Downloading databricks-cli-0.15.0.tar.gz (56 kB)\n",
      "\u001b[K     |████████████████████████████████| 56 kB 6.5 MB/s \n",
      "\u001b[?25hRequirement already satisfied: protobuf>=3.7.0 in /usr/local/lib/python3.7/dist-packages (from mlflow->pycaret) (3.17.3)\n",
      "Collecting docker>=4.0.0\n",
      "  Downloading docker-5.0.3-py2.py3-none-any.whl (146 kB)\n",
      "\u001b[K     |████████████████████████████████| 146 kB 68.0 MB/s \n",
      "\u001b[?25hCollecting prometheus-flask-exporter\n",
      "  Downloading prometheus_flask_exporter-0.18.3-py3-none-any.whl (17 kB)\n",
      "Collecting Mako\n",
      "  Downloading Mako-1.1.5-py2.py3-none-any.whl (75 kB)\n",
      "\u001b[K     |████████████████████████████████| 75 kB 6.3 MB/s \n",
      "\u001b[?25hCollecting python-editor>=0.3\n",
      "  Downloading python_editor-1.0.4-py3-none-any.whl (4.9 kB)\n",
      "Requirement already satisfied: tabulate>=0.7.7 in /usr/local/lib/python3.7/dist-packages (from databricks-cli>=0.8.7->mlflow->pycaret) (0.8.9)\n",
      "Collecting websocket-client>=0.32.0\n",
      "  Downloading websocket_client-1.2.1-py2.py3-none-any.whl (52 kB)\n",
      "\u001b[K     |████████████████████████████████| 52 kB 2.1 MB/s \n",
      "\u001b[?25hCollecting gitdb<5,>=4.0.1\n",
      "  Downloading gitdb-4.0.7-py3-none-any.whl (63 kB)\n",
      "\u001b[K     |████████████████████████████████| 63 kB 2.5 MB/s \n",
      "\u001b[?25hCollecting smmap<5,>=3.0.1\n",
      "  Downloading smmap-4.0.0-py2.py3-none-any.whl (24 kB)\n",
      "Requirement already satisfied: greenlet!=0.4.17 in /usr/local/lib/python3.7/dist-packages (from sqlalchemy->mlflow->pycaret) (1.1.2)\n",
      "Requirement already satisfied: itsdangerous<2.0,>=0.24 in /usr/local/lib/python3.7/dist-packages (from Flask->mlflow->pycaret) (1.1.0)\n",
      "Requirement already satisfied: Werkzeug<2.0,>=0.15 in /usr/local/lib/python3.7/dist-packages (from Flask->mlflow->pycaret) (1.0.1)\n",
      "Requirement already satisfied: testpath in /usr/local/lib/python3.7/dist-packages (from nbconvert->notebook>=4.4.1->widgetsnbextension~=3.5.0->ipywidgets->pycaret) (0.5.0)\n",
      "Requirement already satisfied: mistune<2,>=0.8.1 in /usr/local/lib/python3.7/dist-packages (from nbconvert->notebook>=4.4.1->widgetsnbextension~=3.5.0->ipywidgets->pycaret) (0.8.4)\n",
      "Requirement already satisfied: pandocfilters>=1.4.1 in /usr/local/lib/python3.7/dist-packages (from nbconvert->notebook>=4.4.1->widgetsnbextension~=3.5.0->ipywidgets->pycaret) (1.5.0)\n",
      "Requirement already satisfied: defusedxml in /usr/local/lib/python3.7/dist-packages (from nbconvert->notebook>=4.4.1->widgetsnbextension~=3.5.0->ipywidgets->pycaret) (0.7.1)\n",
      "Requirement already satisfied: bleach in /usr/local/lib/python3.7/dist-packages (from nbconvert->notebook>=4.4.1->widgetsnbextension~=3.5.0->ipywidgets->pycaret) (4.1.0)\n",
      "Requirement already satisfied: webencodings in /usr/local/lib/python3.7/dist-packages (from bleach->nbconvert->notebook>=4.4.1->widgetsnbextension~=3.5.0->ipywidgets->pycaret) (0.5.1)\n",
      "Requirement already satisfied: prometheus-client in /usr/local/lib/python3.7/dist-packages (from prometheus-flask-exporter->mlflow->pycaret) (0.11.0)\n",
      "Collecting pyLDAvis\n",
      "  Downloading pyLDAvis-3.3.0.tar.gz (1.7 MB)\n",
      "\u001b[K     |████████████████████████████████| 1.7 MB 55.6 MB/s \n",
      "\u001b[?25h  Installing build dependencies ... \u001b[?25l\u001b[?25hdone\n",
      "  Getting requirements to build wheel ... \u001b[?25l\u001b[?25hdone\n",
      "  Installing backend dependencies ... \u001b[?25l\u001b[?25hdone\n",
      "    Preparing wheel metadata ... \u001b[?25l\u001b[?25hdone\n",
      "  Downloading pyLDAvis-3.2.2.tar.gz (1.7 MB)\n",
      "\u001b[K     |████████████████████████████████| 1.7 MB 66.4 MB/s \n",
      "\u001b[?25hRequirement already satisfied: numexpr in /usr/local/lib/python3.7/dist-packages (from pyLDAvis->pycaret) (2.7.3)\n",
      "Requirement already satisfied: future in /usr/local/lib/python3.7/dist-packages (from pyLDAvis->pycaret) (0.16.0)\n",
      "Collecting funcy\n",
      "  Downloading funcy-1.16-py2.py3-none-any.whl (32 kB)\n",
      "Requirement already satisfied: statsmodels in /usr/local/lib/python3.7/dist-packages (from pyod->pycaret) (0.10.2)\n",
      "Requirement already satisfied: patsy>=0.4.0 in /usr/local/lib/python3.7/dist-packages (from statsmodels->pyod->pycaret) (0.5.2)\n",
      "Collecting pynndescent>=0.5\n",
      "  Downloading pynndescent-0.5.4.tar.gz (1.1 MB)\n",
      "\u001b[K     |████████████████████████████████| 1.1 MB 43.7 MB/s \n",
      "\u001b[?25hBuilding wheels for collected packages: htmlmin, imagehash, alembic, databricks-cli, pyLDAvis, pyod, umap-learn, pynndescent\n",
      "  Building wheel for htmlmin (setup.py) ... \u001b[?25l\u001b[?25hdone\n",
      "  Created wheel for htmlmin: filename=htmlmin-0.1.12-py3-none-any.whl size=27098 sha256=bfe2bcefc1c072861deb0f22b778eaeed1d5e29e25e4482db4afe5ca55eef098\n",
      "  Stored in directory: /root/.cache/pip/wheels/70/e1/52/5b14d250ba868768823940c3229e9950d201a26d0bd3ee8655\n",
      "  Building wheel for imagehash (setup.py) ... \u001b[?25l\u001b[?25hdone\n",
      "  Created wheel for imagehash: filename=ImageHash-4.2.1-py2.py3-none-any.whl size=295207 sha256=e20200a29aa3551bb857ca06cede4fe1ef57f2decbcc565e3df65f61e366ca32\n",
      "  Stored in directory: /root/.cache/pip/wheels/4c/d5/59/5e3e297533ddb09407769762985d134135064c6831e29a914e\n",
      "  Building wheel for alembic (setup.py) ... \u001b[?25l\u001b[?25hdone\n",
      "  Created wheel for alembic: filename=alembic-1.4.1-py2.py3-none-any.whl size=158172 sha256=c64070069d1b15b54da64cfac26e24eb07a9502da1ed6daac5357c9bf14e7209\n",
      "  Stored in directory: /root/.cache/pip/wheels/be/5d/0a/9e13f53f4f5dfb67cd8d245bb7cdffe12f135846f491a283e3\n",
      "  Building wheel for databricks-cli (setup.py) ... \u001b[?25l\u001b[?25hdone\n",
      "  Created wheel for databricks-cli: filename=databricks_cli-0.15.0-py3-none-any.whl size=105260 sha256=08d619eaf7fa270b4230f8d5c9119c951ba0e784c53a5c540fbf8652f432207a\n",
      "  Stored in directory: /root/.cache/pip/wheels/e7/ba/75/284f9a90ff7a010bb23b9798f2e9a19dd9fe619379c917bff4\n",
      "  Building wheel for pyLDAvis (setup.py) ... \u001b[?25l\u001b[?25hdone\n",
      "  Created wheel for pyLDAvis: filename=pyLDAvis-3.2.2-py2.py3-none-any.whl size=135618 sha256=e0bc5b08172d2fa281c8e0826038ee190e48b40bcfe3c0ec59385e9992711be7\n",
      "  Stored in directory: /root/.cache/pip/wheels/f8/b1/9b/560ac1931796b7303f7b517b949d2d31a4fbc512aad3b9f284\n",
      "  Building wheel for pyod (setup.py) ... \u001b[?25l\u001b[?25hdone\n",
      "  Created wheel for pyod: filename=pyod-0.9.4-py3-none-any.whl size=130726 sha256=ae0495d836e8bb55d59589364f4a0f0377a95c1fe8d9bb556f8ce2fd68f61498\n",
      "  Stored in directory: /root/.cache/pip/wheels/50/32/84/d64079e8bf087c1b231c9beecfa9abc08592ab5f5f333124cd\n",
      "  Building wheel for umap-learn (setup.py) ... \u001b[?25l\u001b[?25hdone\n",
      "  Created wheel for umap-learn: filename=umap_learn-0.5.1-py3-none-any.whl size=76564 sha256=9302c58c55d920e939637786050f9d61435010556830349a867c1c33bc298cb2\n",
      "  Stored in directory: /root/.cache/pip/wheels/01/e7/bb/347dc0e510803d7116a13d592b10cc68262da56a8eec4dd72f\n",
      "  Building wheel for pynndescent (setup.py) ... \u001b[?25l\u001b[?25hdone\n",
      "  Created wheel for pynndescent: filename=pynndescent-0.5.4-py3-none-any.whl size=52373 sha256=f38c9f23697a86ab8171cbb53ac86b21999cbf82d7d9502511eab4db58d22ccd\n",
      "  Stored in directory: /root/.cache/pip/wheels/d0/5b/62/3401692ddad12324249c774c4b15ccb046946021e2b581c043\n",
      "Successfully built htmlmin imagehash alembic databricks-cli pyLDAvis pyod umap-learn pynndescent\n",
      "Installing collected packages: threadpoolctl, tangled-up-in-unicode, smmap, scipy, multimethod, websocket-client, visions, scikit-learn, requests, python-editor, Mako, imagehash, gitdb, querystring-parser, PyYAML, pynndescent, pydantic, prometheus-flask-exporter, phik, htmlmin, gunicorn, gitpython, funcy, docker, databricks-cli, alembic, yellowbrick, umap-learn, scikit-plot, pyod, pyLDAvis, pandas-profiling, mlxtend, mlflow, lightgbm, kmodes, imbalanced-learn, Boruta, pycaret\n",
      "  Attempting uninstall: scipy\n",
      "    Found existing installation: scipy 1.4.1\n",
      "    Uninstalling scipy-1.4.1:\n",
      "      Successfully uninstalled scipy-1.4.1\n",
      "  Attempting uninstall: scikit-learn\n",
      "    Found existing installation: scikit-learn 0.22.2.post1\n",
      "    Uninstalling scikit-learn-0.22.2.post1:\n",
      "      Successfully uninstalled scikit-learn-0.22.2.post1\n",
      "  Attempting uninstall: requests\n",
      "    Found existing installation: requests 2.23.0\n",
      "    Uninstalling requests-2.23.0:\n",
      "      Successfully uninstalled requests-2.23.0\n",
      "  Attempting uninstall: PyYAML\n",
      "    Found existing installation: PyYAML 3.13\n",
      "    Uninstalling PyYAML-3.13:\n",
      "      Successfully uninstalled PyYAML-3.13\n",
      "  Attempting uninstall: yellowbrick\n",
      "    Found existing installation: yellowbrick 0.9.1\n",
      "    Uninstalling yellowbrick-0.9.1:\n",
      "      Successfully uninstalled yellowbrick-0.9.1\n",
      "  Attempting uninstall: pandas-profiling\n",
      "    Found existing installation: pandas-profiling 1.4.1\n",
      "    Uninstalling pandas-profiling-1.4.1:\n",
      "      Successfully uninstalled pandas-profiling-1.4.1\n",
      "  Attempting uninstall: mlxtend\n",
      "    Found existing installation: mlxtend 0.14.0\n",
      "    Uninstalling mlxtend-0.14.0:\n",
      "      Successfully uninstalled mlxtend-0.14.0\n",
      "  Attempting uninstall: lightgbm\n",
      "    Found existing installation: lightgbm 2.2.3\n",
      "    Uninstalling lightgbm-2.2.3:\n",
      "      Successfully uninstalled lightgbm-2.2.3\n",
      "  Attempting uninstall: imbalanced-learn\n",
      "    Found existing installation: imbalanced-learn 0.4.3\n",
      "    Uninstalling imbalanced-learn-0.4.3:\n",
      "      Successfully uninstalled imbalanced-learn-0.4.3\n",
      "\u001b[31mERROR: pip's dependency resolver does not currently take into account all the packages that are installed. This behaviour is the source of the following dependency conflicts.\n",
      "google-colab 1.0.0 requires requests~=2.23.0, but you have requests 2.26.0 which is incompatible.\n",
      "datascience 0.10.6 requires folium==0.2.1, but you have folium 0.8.3 which is incompatible.\n",
      "albumentations 0.1.12 requires imgaug<0.2.7,>=0.2.5, but you have imgaug 0.2.9 which is incompatible.\u001b[0m\n",
      "Successfully installed Boruta-0.3 Mako-1.1.5 PyYAML-6.0 alembic-1.4.1 databricks-cli-0.15.0 docker-5.0.3 funcy-1.16 gitdb-4.0.7 gitpython-3.1.24 gunicorn-20.1.0 htmlmin-0.1.12 imagehash-4.2.1 imbalanced-learn-0.7.0 kmodes-0.11.1 lightgbm-3.3.0 mlflow-1.20.2 mlxtend-0.19.0 multimethod-1.6 pandas-profiling-3.1.0 phik-0.12.0 prometheus-flask-exporter-0.18.3 pyLDAvis-3.2.2 pycaret-2.3.4 pydantic-1.8.2 pynndescent-0.5.4 pyod-0.9.4 python-editor-1.0.4 querystring-parser-1.2.4 requests-2.26.0 scikit-learn-0.23.2 scikit-plot-0.3.7 scipy-1.5.4 smmap-4.0.0 tangled-up-in-unicode-0.1.0 threadpoolctl-3.0.0 umap-learn-0.5.1 visions-0.7.4 websocket-client-1.2.1 yellowbrick-1.3.post1\n"
     ]
    }
   ],
   "source": [
    "!pip install pycaret"
   ]
  },
  {
   "cell_type": "code",
   "execution_count": 1,
   "metadata": {
    "id": "ron_RKpwE475"
   },
   "outputs": [],
   "source": [
    "import pandas as pd\n",
    "import numpy as np\n",
    "import math\n",
    "import matplotlib.pyplot as plt\n",
    "import matplotlib.cm as cm\n",
    "import seaborn as sns"
   ]
  },
  {
   "cell_type": "markdown",
   "metadata": {
    "id": "oDm95-g0CTNZ"
   },
   "source": [
    "## Import data"
   ]
  },
  {
   "cell_type": "code",
   "execution_count": null,
   "metadata": {
    "colab": {
     "base_uri": "https://localhost:8080/"
    },
    "id": "NGV94rI1Cukq",
    "outputId": "5542378a-d8da-4365-c69d-6de9c610b995"
   },
   "outputs": [
    {
     "name": "stdout",
     "output_type": "stream",
     "text": [
      "Drive already mounted at /gdrive; to attempt to forcibly remount, call drive.mount(\"/gdrive\", force_remount=True).\n"
     ]
    }
   ],
   "source": [
    "# connect to google drive\n",
    "from google.colab import drive\n",
    "drive.mount('/gdrive')"
   ]
  },
  {
   "cell_type": "code",
   "execution_count": null,
   "metadata": {
    "colab": {
     "base_uri": "https://localhost:8080/"
    },
    "id": "lvuCEbj-DDja",
    "outputId": "7b4a11d2-26bd-411c-8455-d73b550df7b2"
   },
   "outputs": [
    {
     "name": "stdout",
     "output_type": "stream",
     "text": [
      "/gdrive/MyDrive/olympic_data_challange\n"
     ]
    }
   ],
   "source": [
    "# set working directory google drive\n",
    "%cd '/gdrive/MyDrive/olympic_data_challange'"
   ]
  },
  {
   "cell_type": "code",
   "execution_count": 2,
   "metadata": {
    "colab": {
     "base_uri": "https://localhost:8080/",
     "height": 445
    },
    "id": "JYOUqpyYE5rs",
    "outputId": "fbdf3c6a-fac5-4514-918a-bb6ccd8585e6"
   },
   "outputs": [
    {
     "data": {
      "text/html": [
       "<div>\n",
       "<style scoped>\n",
       "    .dataframe tbody tr th:only-of-type {\n",
       "        vertical-align: middle;\n",
       "    }\n",
       "\n",
       "    .dataframe tbody tr th {\n",
       "        vertical-align: top;\n",
       "    }\n",
       "\n",
       "    .dataframe thead th {\n",
       "        text-align: right;\n",
       "    }\n",
       "</style>\n",
       "<table border=\"1\" class=\"dataframe\">\n",
       "  <thead>\n",
       "    <tr style=\"text-align: right;\">\n",
       "      <th></th>\n",
       "      <th>ID</th>\n",
       "      <th>Name</th>\n",
       "      <th>Sex</th>\n",
       "      <th>Age</th>\n",
       "      <th>Height</th>\n",
       "      <th>Weight</th>\n",
       "      <th>Team</th>\n",
       "      <th>NOC</th>\n",
       "      <th>Games</th>\n",
       "      <th>Year</th>\n",
       "      <th>Season</th>\n",
       "      <th>City</th>\n",
       "      <th>Sport</th>\n",
       "      <th>Event</th>\n",
       "      <th>Medal</th>\n",
       "    </tr>\n",
       "  </thead>\n",
       "  <tbody>\n",
       "    <tr>\n",
       "      <th>0</th>\n",
       "      <td>1</td>\n",
       "      <td>A Dijiang</td>\n",
       "      <td>M</td>\n",
       "      <td>24.0</td>\n",
       "      <td>180.0</td>\n",
       "      <td>80.0</td>\n",
       "      <td>China</td>\n",
       "      <td>CHN</td>\n",
       "      <td>1992 Summer</td>\n",
       "      <td>1992</td>\n",
       "      <td>Summer</td>\n",
       "      <td>Barcelona</td>\n",
       "      <td>Basketball</td>\n",
       "      <td>Basketball Men's Basketball</td>\n",
       "      <td>NaN</td>\n",
       "    </tr>\n",
       "    <tr>\n",
       "      <th>1</th>\n",
       "      <td>2</td>\n",
       "      <td>A Lamusi</td>\n",
       "      <td>M</td>\n",
       "      <td>23.0</td>\n",
       "      <td>170.0</td>\n",
       "      <td>60.0</td>\n",
       "      <td>China</td>\n",
       "      <td>CHN</td>\n",
       "      <td>2012 Summer</td>\n",
       "      <td>2012</td>\n",
       "      <td>Summer</td>\n",
       "      <td>London</td>\n",
       "      <td>Judo</td>\n",
       "      <td>Judo Men's Extra-Lightweight</td>\n",
       "      <td>NaN</td>\n",
       "    </tr>\n",
       "    <tr>\n",
       "      <th>2</th>\n",
       "      <td>3</td>\n",
       "      <td>Gunnar Nielsen Aaby</td>\n",
       "      <td>M</td>\n",
       "      <td>24.0</td>\n",
       "      <td>NaN</td>\n",
       "      <td>NaN</td>\n",
       "      <td>Denmark</td>\n",
       "      <td>DEN</td>\n",
       "      <td>1920 Summer</td>\n",
       "      <td>1920</td>\n",
       "      <td>Summer</td>\n",
       "      <td>Antwerpen</td>\n",
       "      <td>Football</td>\n",
       "      <td>Football Men's Football</td>\n",
       "      <td>NaN</td>\n",
       "    </tr>\n",
       "    <tr>\n",
       "      <th>3</th>\n",
       "      <td>4</td>\n",
       "      <td>Edgar Lindenau Aabye</td>\n",
       "      <td>M</td>\n",
       "      <td>34.0</td>\n",
       "      <td>NaN</td>\n",
       "      <td>NaN</td>\n",
       "      <td>Denmark/Sweden</td>\n",
       "      <td>DEN</td>\n",
       "      <td>1900 Summer</td>\n",
       "      <td>1900</td>\n",
       "      <td>Summer</td>\n",
       "      <td>Paris</td>\n",
       "      <td>Tug-Of-War</td>\n",
       "      <td>Tug-Of-War Men's Tug-Of-War</td>\n",
       "      <td>Gold</td>\n",
       "    </tr>\n",
       "    <tr>\n",
       "      <th>4</th>\n",
       "      <td>5</td>\n",
       "      <td>Christine Jacoba Aaftink</td>\n",
       "      <td>F</td>\n",
       "      <td>21.0</td>\n",
       "      <td>185.0</td>\n",
       "      <td>82.0</td>\n",
       "      <td>Netherlands</td>\n",
       "      <td>NED</td>\n",
       "      <td>1988 Winter</td>\n",
       "      <td>1988</td>\n",
       "      <td>Winter</td>\n",
       "      <td>Calgary</td>\n",
       "      <td>Speed Skating</td>\n",
       "      <td>Speed Skating Women's 500 metres</td>\n",
       "      <td>NaN</td>\n",
       "    </tr>\n",
       "  </tbody>\n",
       "</table>\n",
       "</div>"
      ],
      "text/plain": [
       "   ID                      Name Sex   Age  Height  Weight            Team  \\\n",
       "0   1                 A Dijiang   M  24.0   180.0    80.0           China   \n",
       "1   2                  A Lamusi   M  23.0   170.0    60.0           China   \n",
       "2   3       Gunnar Nielsen Aaby   M  24.0     NaN     NaN         Denmark   \n",
       "3   4      Edgar Lindenau Aabye   M  34.0     NaN     NaN  Denmark/Sweden   \n",
       "4   5  Christine Jacoba Aaftink   F  21.0   185.0    82.0     Netherlands   \n",
       "\n",
       "   NOC        Games  Year  Season       City          Sport  \\\n",
       "0  CHN  1992 Summer  1992  Summer  Barcelona     Basketball   \n",
       "1  CHN  2012 Summer  2012  Summer     London           Judo   \n",
       "2  DEN  1920 Summer  1920  Summer  Antwerpen       Football   \n",
       "3  DEN  1900 Summer  1900  Summer      Paris     Tug-Of-War   \n",
       "4  NED  1988 Winter  1988  Winter    Calgary  Speed Skating   \n",
       "\n",
       "                              Event Medal  \n",
       "0       Basketball Men's Basketball   NaN  \n",
       "1      Judo Men's Extra-Lightweight   NaN  \n",
       "2           Football Men's Football   NaN  \n",
       "3       Tug-Of-War Men's Tug-Of-War  Gold  \n",
       "4  Speed Skating Women's 500 metres   NaN  "
      ]
     },
     "execution_count": 2,
     "metadata": {},
     "output_type": "execute_result"
    }
   ],
   "source": [
    "# jupyter lab\n",
    "data = pd.read_csv('../data/athlete_events.csv')\n",
    "data.head()"
   ]
  },
  {
   "cell_type": "markdown",
   "metadata": {
    "id": "y1LiASpeEyCs"
   },
   "source": [
    "## Explore data"
   ]
  },
  {
   "cell_type": "code",
   "execution_count": 3,
   "metadata": {
    "colab": {
     "base_uri": "https://localhost:8080/",
     "height": 419
    },
    "id": "SbQ2IaEGFCO2",
    "outputId": "b7774f23-3cb9-407e-d8b5-d631ef84dd2a"
   },
   "outputs": [
    {
     "data": {
      "text/html": [
       "<div>\n",
       "<style scoped>\n",
       "    .dataframe tbody tr th:only-of-type {\n",
       "        vertical-align: middle;\n",
       "    }\n",
       "\n",
       "    .dataframe tbody tr th {\n",
       "        vertical-align: top;\n",
       "    }\n",
       "\n",
       "    .dataframe thead th {\n",
       "        text-align: right;\n",
       "    }\n",
       "</style>\n",
       "<table border=\"1\" class=\"dataframe\">\n",
       "  <thead>\n",
       "    <tr style=\"text-align: right;\">\n",
       "      <th></th>\n",
       "      <th>index</th>\n",
       "      <th>Team</th>\n",
       "    </tr>\n",
       "  </thead>\n",
       "  <tbody>\n",
       "    <tr>\n",
       "      <th>0</th>\n",
       "      <td>United States</td>\n",
       "      <td>17847</td>\n",
       "    </tr>\n",
       "    <tr>\n",
       "      <th>1</th>\n",
       "      <td>France</td>\n",
       "      <td>11988</td>\n",
       "    </tr>\n",
       "    <tr>\n",
       "      <th>2</th>\n",
       "      <td>Great Britain</td>\n",
       "      <td>11404</td>\n",
       "    </tr>\n",
       "    <tr>\n",
       "      <th>3</th>\n",
       "      <td>Italy</td>\n",
       "      <td>10260</td>\n",
       "    </tr>\n",
       "    <tr>\n",
       "      <th>4</th>\n",
       "      <td>Germany</td>\n",
       "      <td>9326</td>\n",
       "    </tr>\n",
       "    <tr>\n",
       "      <th>...</th>\n",
       "      <td>...</td>\n",
       "      <td>...</td>\n",
       "    </tr>\n",
       "    <tr>\n",
       "      <th>1179</th>\n",
       "      <td>Briar</td>\n",
       "      <td>1</td>\n",
       "    </tr>\n",
       "    <tr>\n",
       "      <th>1180</th>\n",
       "      <td>Hannover</td>\n",
       "      <td>1</td>\n",
       "    </tr>\n",
       "    <tr>\n",
       "      <th>1181</th>\n",
       "      <td>Nan-2</td>\n",
       "      <td>1</td>\n",
       "    </tr>\n",
       "    <tr>\n",
       "      <th>1182</th>\n",
       "      <td>Brentina</td>\n",
       "      <td>1</td>\n",
       "    </tr>\n",
       "    <tr>\n",
       "      <th>1183</th>\n",
       "      <td>Digby</td>\n",
       "      <td>1</td>\n",
       "    </tr>\n",
       "  </tbody>\n",
       "</table>\n",
       "<p>1184 rows × 2 columns</p>\n",
       "</div>"
      ],
      "text/plain": [
       "              index   Team\n",
       "0     United States  17847\n",
       "1            France  11988\n",
       "2     Great Britain  11404\n",
       "3             Italy  10260\n",
       "4           Germany   9326\n",
       "...             ...    ...\n",
       "1179          Briar      1\n",
       "1180       Hannover      1\n",
       "1181          Nan-2      1\n",
       "1182       Brentina      1\n",
       "1183          Digby      1\n",
       "\n",
       "[1184 rows x 2 columns]"
      ]
     },
     "execution_count": 3,
     "metadata": {},
     "output_type": "execute_result"
    }
   ],
   "source": [
    "data.Team.value_counts().reset_index()"
   ]
  },
  {
   "cell_type": "code",
   "execution_count": 4,
   "metadata": {
    "colab": {
     "base_uri": "https://localhost:8080/"
    },
    "id": "aCsUSxg3FEIM",
    "outputId": "33ef9a85-e4bb-492a-ee69-6673f64b8b00"
   },
   "outputs": [
    {
     "data": {
      "text/plain": [
       "USA    18853\n",
       "FRA    12758\n",
       "GBR    12256\n",
       "ITA    10715\n",
       "GER     9830\n",
       "       ...  \n",
       "YMD        5\n",
       "SSD        3\n",
       "UNK        2\n",
       "NBO        2\n",
       "NFL        1\n",
       "Name: NOC, Length: 230, dtype: int64"
      ]
     },
     "execution_count": 4,
     "metadata": {},
     "output_type": "execute_result"
    }
   ],
   "source": [
    "data.NOC.value_counts()"
   ]
  },
  {
   "cell_type": "code",
   "execution_count": 5,
   "metadata": {
    "colab": {
     "base_uri": "https://localhost:8080/",
     "height": 269
    },
    "id": "oQT7vT9rFIwC",
    "outputId": "e4c16877-b4eb-4a01-d534-392473dd9cb8"
   },
   "outputs": [],
   "source": [
    "plt.figure()\n",
    "sns.heatmap(data.corr(), annot=True);"
   ]
  },
  {
   "cell_type": "code",
   "execution_count": 6,
   "metadata": {
    "colab": {
     "base_uri": "https://localhost:8080/",
     "height": 297
    },
    "id": "It18Z0l4FKpc",
    "outputId": "0be3e79b-177b-492f-b91a-36192c37dd3c"
   },
   "outputs": [
    {
     "data": {
      "text/html": [
       "<div>\n",
       "<style scoped>\n",
       "    .dataframe tbody tr th:only-of-type {\n",
       "        vertical-align: middle;\n",
       "    }\n",
       "\n",
       "    .dataframe tbody tr th {\n",
       "        vertical-align: top;\n",
       "    }\n",
       "\n",
       "    .dataframe thead th {\n",
       "        text-align: right;\n",
       "    }\n",
       "</style>\n",
       "<table border=\"1\" class=\"dataframe\">\n",
       "  <thead>\n",
       "    <tr style=\"text-align: right;\">\n",
       "      <th></th>\n",
       "      <th>ID</th>\n",
       "      <th>Age</th>\n",
       "      <th>Height</th>\n",
       "      <th>Weight</th>\n",
       "      <th>Year</th>\n",
       "    </tr>\n",
       "  </thead>\n",
       "  <tbody>\n",
       "    <tr>\n",
       "      <th>count</th>\n",
       "      <td>271116.000000</td>\n",
       "      <td>261642.000000</td>\n",
       "      <td>210945.000000</td>\n",
       "      <td>208241.000000</td>\n",
       "      <td>271116.000000</td>\n",
       "    </tr>\n",
       "    <tr>\n",
       "      <th>mean</th>\n",
       "      <td>68248.954396</td>\n",
       "      <td>25.556898</td>\n",
       "      <td>175.338970</td>\n",
       "      <td>70.702393</td>\n",
       "      <td>1978.378480</td>\n",
       "    </tr>\n",
       "    <tr>\n",
       "      <th>std</th>\n",
       "      <td>39022.286345</td>\n",
       "      <td>6.393561</td>\n",
       "      <td>10.518462</td>\n",
       "      <td>14.348020</td>\n",
       "      <td>29.877632</td>\n",
       "    </tr>\n",
       "    <tr>\n",
       "      <th>min</th>\n",
       "      <td>1.000000</td>\n",
       "      <td>10.000000</td>\n",
       "      <td>127.000000</td>\n",
       "      <td>25.000000</td>\n",
       "      <td>1896.000000</td>\n",
       "    </tr>\n",
       "    <tr>\n",
       "      <th>25%</th>\n",
       "      <td>34643.000000</td>\n",
       "      <td>21.000000</td>\n",
       "      <td>168.000000</td>\n",
       "      <td>60.000000</td>\n",
       "      <td>1960.000000</td>\n",
       "    </tr>\n",
       "    <tr>\n",
       "      <th>50%</th>\n",
       "      <td>68205.000000</td>\n",
       "      <td>24.000000</td>\n",
       "      <td>175.000000</td>\n",
       "      <td>70.000000</td>\n",
       "      <td>1988.000000</td>\n",
       "    </tr>\n",
       "    <tr>\n",
       "      <th>75%</th>\n",
       "      <td>102097.250000</td>\n",
       "      <td>28.000000</td>\n",
       "      <td>183.000000</td>\n",
       "      <td>79.000000</td>\n",
       "      <td>2002.000000</td>\n",
       "    </tr>\n",
       "    <tr>\n",
       "      <th>max</th>\n",
       "      <td>135571.000000</td>\n",
       "      <td>97.000000</td>\n",
       "      <td>226.000000</td>\n",
       "      <td>214.000000</td>\n",
       "      <td>2016.000000</td>\n",
       "    </tr>\n",
       "  </tbody>\n",
       "</table>\n",
       "</div>"
      ],
      "text/plain": [
       "                  ID            Age         Height         Weight  \\\n",
       "count  271116.000000  261642.000000  210945.000000  208241.000000   \n",
       "mean    68248.954396      25.556898     175.338970      70.702393   \n",
       "std     39022.286345       6.393561      10.518462      14.348020   \n",
       "min         1.000000      10.000000     127.000000      25.000000   \n",
       "25%     34643.000000      21.000000     168.000000      60.000000   \n",
       "50%     68205.000000      24.000000     175.000000      70.000000   \n",
       "75%    102097.250000      28.000000     183.000000      79.000000   \n",
       "max    135571.000000      97.000000     226.000000     214.000000   \n",
       "\n",
       "                Year  \n",
       "count  271116.000000  \n",
       "mean     1978.378480  \n",
       "std        29.877632  \n",
       "min      1896.000000  \n",
       "25%      1960.000000  \n",
       "50%      1988.000000  \n",
       "75%      2002.000000  \n",
       "max      2016.000000  "
      ]
     },
     "execution_count": 6,
     "metadata": {},
     "output_type": "execute_result"
    }
   ],
   "source": [
    "data.describe()"
   ]
  },
  {
   "cell_type": "markdown",
   "metadata": {
    "id": "sCB3qEZWFNzs"
   },
   "source": [
    "following columns can be droped since they do not give more information:\n",
    "- ID\n",
    "- Team\n",
    "- City"
   ]
  },
  {
   "cell_type": "markdown",
   "metadata": {
    "id": "7l-QJ-eZFaVq"
   },
   "source": [
    "## Data cleaning"
   ]
  },
  {
   "cell_type": "markdown",
   "metadata": {
    "id": "hKHQv4d6ERjj"
   },
   "source": [
    "create new column where Medals are encoded in numbers instead of words"
   ]
  },
  {
   "cell_type": "code",
   "execution_count": 7,
   "metadata": {
    "colab": {
     "base_uri": "https://localhost:8080/"
    },
    "id": "sVxLxB62FLjc",
    "outputId": "f6d06334-5d1c-4731-dfd5-e2cbbb42c342"
   },
   "outputs": [
    {
     "data": {
      "text/plain": [
       "Gold      13372\n",
       "Bronze    13295\n",
       "Silver    13116\n",
       "Name: Medal, dtype: int64"
      ]
     },
     "execution_count": 7,
     "metadata": {},
     "output_type": "execute_result"
    }
   ],
   "source": [
    "data.Medal.value_counts()"
   ]
  },
  {
   "cell_type": "code",
   "execution_count": 8,
   "metadata": {
    "colab": {
     "base_uri": "https://localhost:8080/"
    },
    "id": "c2aBll6lFRXd",
    "outputId": "2a22ba8b-260b-4b54-b81c-a9f30aec82bd"
   },
   "outputs": [
    {
     "data": {
      "text/plain": [
       "0    231333\n",
       "1     13372\n",
       "3     13295\n",
       "2     13116\n",
       "Name: Medal_numeric, dtype: int64"
      ]
     },
     "execution_count": 8,
     "metadata": {},
     "output_type": "execute_result"
    }
   ],
   "source": [
    "conversion = {'Gold': 1, 'Silver': 2, 'Bronze': 3}\n",
    "\n",
    "data['Medal_numeric'] = data.apply(lambda row: conversion[row['Medal']] if row['Medal'] in conversion else 0, axis = 1)\n",
    "data['Medal_numeric'].value_counts()"
   ]
  },
  {
   "cell_type": "markdown",
   "metadata": {
    "id": "lRM0IoIVD59p"
   },
   "source": [
    "First not needed columns will be droped. This includes Name since there are to many different names to use with one hot encoder on my computer (needs to much RAM). It also includes Medal column since a new column with same information is included"
   ]
  },
  {
   "cell_type": "code",
   "execution_count": 9,
   "metadata": {
    "colab": {
     "base_uri": "https://localhost:8080/",
     "height": 289
    },
    "id": "o_EESob4FbOH",
    "outputId": "e1cf6236-0780-4b89-b180-803cec6dd446"
   },
   "outputs": [
    {
     "data": {
      "text/html": [
       "<div>\n",
       "<style scoped>\n",
       "    .dataframe tbody tr th:only-of-type {\n",
       "        vertical-align: middle;\n",
       "    }\n",
       "\n",
       "    .dataframe tbody tr th {\n",
       "        vertical-align: top;\n",
       "    }\n",
       "\n",
       "    .dataframe thead th {\n",
       "        text-align: right;\n",
       "    }\n",
       "</style>\n",
       "<table border=\"1\" class=\"dataframe\">\n",
       "  <thead>\n",
       "    <tr style=\"text-align: right;\">\n",
       "      <th></th>\n",
       "      <th>Sex</th>\n",
       "      <th>Age</th>\n",
       "      <th>Height</th>\n",
       "      <th>Weight</th>\n",
       "      <th>NOC</th>\n",
       "      <th>Games</th>\n",
       "      <th>Year</th>\n",
       "      <th>Season</th>\n",
       "      <th>Sport</th>\n",
       "      <th>Event</th>\n",
       "      <th>Medal_numeric</th>\n",
       "    </tr>\n",
       "  </thead>\n",
       "  <tbody>\n",
       "    <tr>\n",
       "      <th>0</th>\n",
       "      <td>M</td>\n",
       "      <td>24.0</td>\n",
       "      <td>180.0</td>\n",
       "      <td>80.0</td>\n",
       "      <td>CHN</td>\n",
       "      <td>1992 Summer</td>\n",
       "      <td>1992</td>\n",
       "      <td>Summer</td>\n",
       "      <td>Basketball</td>\n",
       "      <td>Basketball Men's Basketball</td>\n",
       "      <td>0</td>\n",
       "    </tr>\n",
       "    <tr>\n",
       "      <th>1</th>\n",
       "      <td>M</td>\n",
       "      <td>23.0</td>\n",
       "      <td>170.0</td>\n",
       "      <td>60.0</td>\n",
       "      <td>CHN</td>\n",
       "      <td>2012 Summer</td>\n",
       "      <td>2012</td>\n",
       "      <td>Summer</td>\n",
       "      <td>Judo</td>\n",
       "      <td>Judo Men's Extra-Lightweight</td>\n",
       "      <td>0</td>\n",
       "    </tr>\n",
       "    <tr>\n",
       "      <th>2</th>\n",
       "      <td>M</td>\n",
       "      <td>24.0</td>\n",
       "      <td>NaN</td>\n",
       "      <td>NaN</td>\n",
       "      <td>DEN</td>\n",
       "      <td>1920 Summer</td>\n",
       "      <td>1920</td>\n",
       "      <td>Summer</td>\n",
       "      <td>Football</td>\n",
       "      <td>Football Men's Football</td>\n",
       "      <td>0</td>\n",
       "    </tr>\n",
       "    <tr>\n",
       "      <th>3</th>\n",
       "      <td>M</td>\n",
       "      <td>34.0</td>\n",
       "      <td>NaN</td>\n",
       "      <td>NaN</td>\n",
       "      <td>DEN</td>\n",
       "      <td>1900 Summer</td>\n",
       "      <td>1900</td>\n",
       "      <td>Summer</td>\n",
       "      <td>Tug-Of-War</td>\n",
       "      <td>Tug-Of-War Men's Tug-Of-War</td>\n",
       "      <td>1</td>\n",
       "    </tr>\n",
       "    <tr>\n",
       "      <th>4</th>\n",
       "      <td>F</td>\n",
       "      <td>21.0</td>\n",
       "      <td>185.0</td>\n",
       "      <td>82.0</td>\n",
       "      <td>NED</td>\n",
       "      <td>1988 Winter</td>\n",
       "      <td>1988</td>\n",
       "      <td>Winter</td>\n",
       "      <td>Speed Skating</td>\n",
       "      <td>Speed Skating Women's 500 metres</td>\n",
       "      <td>0</td>\n",
       "    </tr>\n",
       "  </tbody>\n",
       "</table>\n",
       "</div>"
      ],
      "text/plain": [
       "  Sex   Age  Height  Weight  NOC        Games  Year  Season          Sport  \\\n",
       "0   M  24.0   180.0    80.0  CHN  1992 Summer  1992  Summer     Basketball   \n",
       "1   M  23.0   170.0    60.0  CHN  2012 Summer  2012  Summer           Judo   \n",
       "2   M  24.0     NaN     NaN  DEN  1920 Summer  1920  Summer       Football   \n",
       "3   M  34.0     NaN     NaN  DEN  1900 Summer  1900  Summer     Tug-Of-War   \n",
       "4   F  21.0   185.0    82.0  NED  1988 Winter  1988  Winter  Speed Skating   \n",
       "\n",
       "                              Event  Medal_numeric  \n",
       "0       Basketball Men's Basketball              0  \n",
       "1      Judo Men's Extra-Lightweight              0  \n",
       "2           Football Men's Football              0  \n",
       "3       Tug-Of-War Men's Tug-Of-War              1  \n",
       "4  Speed Skating Women's 500 metres              0  "
      ]
     },
     "execution_count": 9,
     "metadata": {},
     "output_type": "execute_result"
    }
   ],
   "source": [
    "df = data.drop(columns=['ID', 'Name', 'Team', 'City', 'Medal'])\n",
    "df.head()"
   ]
  },
  {
   "cell_type": "markdown",
   "metadata": {
    "id": "lUDqH75-E9_g"
   },
   "source": [
    "## Visualize Data"
   ]
  },
  {
   "cell_type": "code",
   "execution_count": null,
   "metadata": {
    "colab": {
     "base_uri": "https://localhost:8080/",
     "height": 281
    },
    "id": "bohCgdoUFdCf",
    "outputId": "0f764f0c-bbe3-4b7f-906d-ae08ab39f68f"
   },
   "outputs": [
    {
     "data": {
      "image/png": "[encoded data removed]",
      "text/plain": [
       "<Figure size 432x288 with 6 Axes>"
      ]
     },
     "metadata": {
      "needs_background": "light"
     },
     "output_type": "display_data"
    }
   ],
   "source": [
    "df.hist();"
   ]
  },
  {
   "cell_type": "code",
   "execution_count": null,
   "metadata": {
    "colab": {
     "base_uri": "https://localhost:8080/",
     "height": 320
    },
    "id": "cgsZX2IVFewq",
    "outputId": "60691a47-10ab-449a-e831-f894dd26d489"
   },
   "outputs": [
    {
     "name": "stderr",
     "output_type": "stream",
     "text": [
      "/usr/local/lib/python3.7/dist-packages/numpy/core/_asarray.py:83: VisibleDeprecationWarning: Creating an ndarray from ragged nested sequences (which is a list-or-tuple of lists-or-tuples-or ndarrays with different lengths or shapes) is deprecated. If you meant to do this, you must specify 'dtype=object' when creating the ndarray\n",
      "  return array(a, dtype, copy=False, order=order)\n"
     ]
    },
    {
     "data": {
      "image/png": "[encoded data removed]",
      "text/plain": [
       "<Figure size 432x288 with 1 Axes>"
      ]
     },
     "metadata": {
      "needs_background": "light"
     },
     "output_type": "display_data"
    }
   ],
   "source": [
    "df.drop(columns=['Year']).boxplot();"
   ]
  },
  {
   "cell_type": "code",
   "execution_count": null,
   "metadata": {
    "colab": {
     "base_uri": "https://localhost:8080/",
     "height": 357
    },
    "id": "6RWuv-RVFgtt",
    "outputId": "80a081a2-24f2-47a2-f22b-c5b359d51638"
   },
   "outputs": [
    {
     "data": {
      "text/html": [
       "<div>\n",
       "<style scoped>\n",
       "    .dataframe tbody tr th:only-of-type {\n",
       "        vertical-align: middle;\n",
       "    }\n",
       "\n",
       "    .dataframe tbody tr th {\n",
       "        vertical-align: top;\n",
       "    }\n",
       "\n",
       "    .dataframe thead th {\n",
       "        text-align: right;\n",
       "    }\n",
       "</style>\n",
       "<table border=\"1\" class=\"dataframe\">\n",
       "  <thead>\n",
       "    <tr style=\"text-align: right;\">\n",
       "      <th></th>\n",
       "      <th>Sex</th>\n",
       "      <th>Age</th>\n",
       "      <th>Height</th>\n",
       "      <th>Weight</th>\n",
       "      <th>NOC</th>\n",
       "      <th>Games</th>\n",
       "      <th>Year</th>\n",
       "      <th>Season</th>\n",
       "      <th>Sport</th>\n",
       "      <th>Event</th>\n",
       "      <th>Medal_numeric</th>\n",
       "    </tr>\n",
       "  </thead>\n",
       "  <tbody>\n",
       "    <tr>\n",
       "      <th>44584</th>\n",
       "      <td>M</td>\n",
       "      <td>73.0</td>\n",
       "      <td>NaN</td>\n",
       "      <td>NaN</td>\n",
       "      <td>GBR</td>\n",
       "      <td>1948 Summer</td>\n",
       "      <td>1948</td>\n",
       "      <td>Summer</td>\n",
       "      <td>Art Competitions</td>\n",
       "      <td>Art Competitions Mixed Painting, Graphic Arts</td>\n",
       "      <td>2</td>\n",
       "    </tr>\n",
       "    <tr>\n",
       "      <th>60009</th>\n",
       "      <td>M</td>\n",
       "      <td>72.0</td>\n",
       "      <td>NaN</td>\n",
       "      <td>NaN</td>\n",
       "      <td>BEL</td>\n",
       "      <td>1936 Summer</td>\n",
       "      <td>1936</td>\n",
       "      <td>Summer</td>\n",
       "      <td>Art Competitions</td>\n",
       "      <td>Art Competitions Mixed Sculpturing, Medals</td>\n",
       "      <td>3</td>\n",
       "    </tr>\n",
       "    <tr>\n",
       "      <th>150755</th>\n",
       "      <td>M</td>\n",
       "      <td>71.0</td>\n",
       "      <td>NaN</td>\n",
       "      <td>NaN</td>\n",
       "      <td>FRA</td>\n",
       "      <td>1900 Summer</td>\n",
       "      <td>1900</td>\n",
       "      <td>Summer</td>\n",
       "      <td>Sailing</td>\n",
       "      <td>Sailing Mixed 0.5-1 Ton</td>\n",
       "      <td>2</td>\n",
       "    </tr>\n",
       "    <tr>\n",
       "      <th>150756</th>\n",
       "      <td>M</td>\n",
       "      <td>71.0</td>\n",
       "      <td>NaN</td>\n",
       "      <td>NaN</td>\n",
       "      <td>FRA</td>\n",
       "      <td>1900 Summer</td>\n",
       "      <td>1900</td>\n",
       "      <td>Summer</td>\n",
       "      <td>Sailing</td>\n",
       "      <td>Sailing Mixed 0.5-1 Ton</td>\n",
       "      <td>3</td>\n",
       "    </tr>\n",
       "    <tr>\n",
       "      <th>233395</th>\n",
       "      <td>M</td>\n",
       "      <td>72.0</td>\n",
       "      <td>NaN</td>\n",
       "      <td>NaN</td>\n",
       "      <td>SWE</td>\n",
       "      <td>1920 Summer</td>\n",
       "      <td>1920</td>\n",
       "      <td>Summer</td>\n",
       "      <td>Shooting</td>\n",
       "      <td>Shooting Men's Running Target, Double Shot, Team</td>\n",
       "      <td>2</td>\n",
       "    </tr>\n",
       "  </tbody>\n",
       "</table>\n",
       "</div>"
      ],
      "text/plain": [
       "       Sex  ...  Medal_numeric\n",
       "44584    M  ...              2\n",
       "60009    M  ...              3\n",
       "150755   M  ...              2\n",
       "150756   M  ...              3\n",
       "233395   M  ...              2\n",
       "\n",
       "[5 rows x 11 columns]"
      ]
     },
     "execution_count": 15,
     "metadata": {},
     "output_type": "execute_result"
    }
   ],
   "source": [
    "df[(df.Age > 70) & (df.Medal_numeric != 0)]"
   ]
  },
  {
   "cell_type": "code",
   "execution_count": null,
   "metadata": {
    "colab": {
     "base_uri": "https://localhost:8080/"
    },
    "id": "wKSaumbpFiq7",
    "outputId": "95526c26-10ce-42b4-cb37-3b90e561de06"
   },
   "outputs": [
    {
     "name": "stdout",
     "output_type": "stream",
     "text": [
      "<class 'pandas.core.frame.DataFrame'>\n",
      "RangeIndex: 271116 entries, 0 to 271115\n",
      "Data columns (total 11 columns):\n",
      " #   Column         Non-Null Count   Dtype  \n",
      "---  ------         --------------   -----  \n",
      " 0   Sex            271116 non-null  object \n",
      " 1   Age            261642 non-null  float64\n",
      " 2   Height         210945 non-null  float64\n",
      " 3   Weight         208241 non-null  float64\n",
      " 4   NOC            271116 non-null  object \n",
      " 5   Games          271116 non-null  object \n",
      " 6   Year           271116 non-null  int64  \n",
      " 7   Season         271116 non-null  object \n",
      " 8   Sport          271116 non-null  object \n",
      " 9   Event          271116 non-null  object \n",
      " 10  Medal_numeric  271116 non-null  int64  \n",
      "dtypes: float64(3), int64(2), object(6)\n",
      "memory usage: 22.8+ MB\n"
     ]
    }
   ],
   "source": [
    "df.info()"
   ]
  },
  {
   "cell_type": "code",
   "execution_count": null,
   "metadata": {
    "colab": {
     "base_uri": "https://localhost:8080/",
     "height": 375
    },
    "id": "5XPVE0Mw-Inl",
    "outputId": "3ade5722-4bb0-46e6-bc1b-414be358d645"
   },
   "outputs": [
    {
     "data": {
      "image/png": "[encoded data removed]",
      "text/plain": [
       "<Figure size 1080x432 with 1 Axes>"
      ]
     },
     "metadata": {
      "needs_background": "light"
     },
     "output_type": "display_data"
    }
   ],
   "source": [
    "df_summer_gold = data[(data['Season'] == 'Summer') & (data['Medal'] == 'Gold')]\n",
    "df_summer_gold_count = df_summer_gold.groupby('NOC')['Medal'].count().to_frame().reset_index()\n",
    "df_summer_gold_count = df_summer_gold_count.rename(columns={\"Medal\": 'Gold'})\n",
    "\n",
    "\n",
    "df_summer_silver = data[(data['Season'] == 'Summer') & (data['Medal'] == 'Silver')]\n",
    "df_summer_silver_count = df_summer_silver.groupby('NOC')['Medal'].count().to_frame().reset_index()\n",
    "df_summer_silver_count = df_summer_silver_count.rename(columns={\"Medal\": 'Silver'})\n",
    "\n",
    "df_summer_bronze = data[(data['Season'] == 'Summer') & (data['Medal'] == 'Bronze')]\n",
    "df_summer_bronze_count = df_summer_bronze.groupby('NOC')['Medal'].count().to_frame().reset_index()\n",
    "df_summer_bronze_count = df_summer_bronze_count.rename(columns={\"Medal\": 'Bronze'})\n",
    "\n",
    "df_summer_medals  = pd.merge(df_summer_gold_count,df_summer_silver_count, left_on='NOC', right_on='NOC')\n",
    "df_summer_medals = pd.merge(df_summer_medals, df_summer_bronze_count, left_on='NOC', right_on='NOC')\n",
    "\n",
    "df_summer_medals['Total'] = df_summer_medals['Gold'] + df_summer_medals['Silver'] + df_summer_medals['Bronze']\n",
    "df_summer_medals = df_summer_medals.sort_values('Total',ascending=False).reset_index()\n",
    "\n",
    "fig = plt.figure(figsize=(15,6))\n",
    "ax = plt.gca()\n",
    "# create data\n",
    "x = df_summer_medals['NOC'][:30]\n",
    "y1 = df_summer_medals['Gold'][:30]\n",
    "y2 = df_summer_medals['Silver'][:30]\n",
    "y3 = df_summer_medals['Bronze'][:30]\n",
    "\n",
    "# plot bars in stack manner\n",
    "plt.bar(x, y1, bottom=y3+y2, color='y', label = 'Gold')\n",
    "plt.bar(x, y2, bottom=y3, color='gray', label = 'Silver')\n",
    "plt.bar(x, y3, color='brown', label = 'Bronze')\n",
    "ax.legend()\n",
    "plt.xticks(rotation=90)\n",
    "plt.ylabel('Number of Medals')\n",
    "plt.title('Total Number of Medals at the Summer Olypics')\n",
    "plt.savefig('medals_summer.png')\n",
    "plt.show()"
   ]
  },
  {
   "cell_type": "markdown",
   "metadata": {
    "id": "O40_J89oFlX3"
   },
   "source": [
    "## Impute missing data"
   ]
  },
  {
   "cell_type": "markdown",
   "metadata": {
    "id": "nYxg1_KVFzOu"
   },
   "source": [
    "inpute missing data in float columns (Age, Height, Weight)"
   ]
  },
  {
   "cell_type": "code",
   "execution_count": null,
   "metadata": {
    "colab": {
     "background_save": true
    },
    "id": "Om1YIBO1Fk0K",
    "outputId": "14170038-0d0e-4a88-b616-45fa39a843a5"
   },
   "outputs": [
    {
     "name": "stdout",
     "output_type": "stream",
     "text": [
      "<class 'pandas.core.frame.DataFrame'>\n",
      "RangeIndex: 271116 entries, 0 to 271115\n",
      "Data columns (total 3 columns):\n",
      " #   Column  Non-Null Count   Dtype  \n",
      "---  ------  --------------   -----  \n",
      " 0   Age     271116 non-null  float64\n",
      " 1   Height  271116 non-null  float64\n",
      " 2   Weight  271116 non-null  float64\n",
      "dtypes: float64(3)\n",
      "memory usage: 6.2 MB\n"
     ]
    }
   ],
   "source": [
    "from sklearn.impute import KNNImputer\n",
    "\n",
    "df_numeric = df.select_dtypes(include='float64')\n",
    "\n",
    "num_cols = df_numeric.columns\n",
    "knn_imp = KNNImputer(n_neighbors=5)\n",
    "df_numeric = pd.DataFrame(knn_imp.fit_transform(df_numeric),\n",
    "                          columns=num_cols)\n",
    "df_numeric.info()"
   ]
  },
  {
   "cell_type": "code",
   "execution_count": 10,
   "metadata": {
    "id": "UCNkHEyCFtWK"
   },
   "outputs": [],
   "source": [
    "# save data including data points in csv file\n",
    "#df_numeric.to_csv('inputed_numeric_data.csv')\n",
    "#load inputed data\n",
    "df_numeric = pd.read_csv('../data/inputed_numeric_data.csv', index_col=0)"
   ]
  },
  {
   "cell_type": "code",
   "execution_count": 11,
   "metadata": {
    "colab": {
     "base_uri": "https://localhost:8080/",
     "height": 204
    },
    "id": "6O7WHxVyFwzj",
    "outputId": "32b9e947-01b2-400c-c759-e152144d4b17"
   },
   "outputs": [
    {
     "data": {
      "text/html": [
       "<div>\n",
       "<style scoped>\n",
       "    .dataframe tbody tr th:only-of-type {\n",
       "        vertical-align: middle;\n",
       "    }\n",
       "\n",
       "    .dataframe tbody tr th {\n",
       "        vertical-align: top;\n",
       "    }\n",
       "\n",
       "    .dataframe thead th {\n",
       "        text-align: right;\n",
       "    }\n",
       "</style>\n",
       "<table border=\"1\" class=\"dataframe\">\n",
       "  <thead>\n",
       "    <tr style=\"text-align: right;\">\n",
       "      <th></th>\n",
       "      <th>Age</th>\n",
       "      <th>Height</th>\n",
       "      <th>Weight</th>\n",
       "    </tr>\n",
       "  </thead>\n",
       "  <tbody>\n",
       "    <tr>\n",
       "      <th>0</th>\n",
       "      <td>24.0</td>\n",
       "      <td>180.0</td>\n",
       "      <td>80.0</td>\n",
       "    </tr>\n",
       "    <tr>\n",
       "      <th>1</th>\n",
       "      <td>23.0</td>\n",
       "      <td>170.0</td>\n",
       "      <td>60.0</td>\n",
       "    </tr>\n",
       "    <tr>\n",
       "      <th>2</th>\n",
       "      <td>24.0</td>\n",
       "      <td>190.4</td>\n",
       "      <td>67.8</td>\n",
       "    </tr>\n",
       "    <tr>\n",
       "      <th>3</th>\n",
       "      <td>34.0</td>\n",
       "      <td>176.6</td>\n",
       "      <td>85.4</td>\n",
       "    </tr>\n",
       "    <tr>\n",
       "      <th>4</th>\n",
       "      <td>21.0</td>\n",
       "      <td>185.0</td>\n",
       "      <td>82.0</td>\n",
       "    </tr>\n",
       "  </tbody>\n",
       "</table>\n",
       "</div>"
      ],
      "text/plain": [
       "    Age  Height  Weight\n",
       "0  24.0   180.0    80.0\n",
       "1  23.0   170.0    60.0\n",
       "2  24.0   190.4    67.8\n",
       "3  34.0   176.6    85.4\n",
       "4  21.0   185.0    82.0"
      ]
     },
     "execution_count": 11,
     "metadata": {},
     "output_type": "execute_result"
    }
   ],
   "source": [
    "df_numeric.head()"
   ]
  },
  {
   "cell_type": "code",
   "execution_count": 12,
   "metadata": {
    "colab": {
     "base_uri": "https://localhost:8080/",
     "height": 289
    },
    "id": "rBMzKC6MFzZ-",
    "outputId": "4ac60c1a-a735-41c3-ee43-1fad6f01d682"
   },
   "outputs": [
    {
     "data": {
      "text/html": [
       "<div>\n",
       "<style scoped>\n",
       "    .dataframe tbody tr th:only-of-type {\n",
       "        vertical-align: middle;\n",
       "    }\n",
       "\n",
       "    .dataframe tbody tr th {\n",
       "        vertical-align: top;\n",
       "    }\n",
       "\n",
       "    .dataframe thead th {\n",
       "        text-align: right;\n",
       "    }\n",
       "</style>\n",
       "<table border=\"1\" class=\"dataframe\">\n",
       "  <thead>\n",
       "    <tr style=\"text-align: right;\">\n",
       "      <th></th>\n",
       "      <th>Sex</th>\n",
       "      <th>NOC</th>\n",
       "      <th>Games</th>\n",
       "      <th>Year</th>\n",
       "      <th>Season</th>\n",
       "      <th>Sport</th>\n",
       "      <th>Event</th>\n",
       "      <th>Medal_numeric</th>\n",
       "      <th>Age</th>\n",
       "      <th>Height</th>\n",
       "      <th>Weight</th>\n",
       "    </tr>\n",
       "  </thead>\n",
       "  <tbody>\n",
       "    <tr>\n",
       "      <th>0</th>\n",
       "      <td>M</td>\n",
       "      <td>CHN</td>\n",
       "      <td>1992 Summer</td>\n",
       "      <td>1992</td>\n",
       "      <td>Summer</td>\n",
       "      <td>Basketball</td>\n",
       "      <td>Basketball Men's Basketball</td>\n",
       "      <td>0</td>\n",
       "      <td>24.0</td>\n",
       "      <td>180.0</td>\n",
       "      <td>80.0</td>\n",
       "    </tr>\n",
       "    <tr>\n",
       "      <th>1</th>\n",
       "      <td>M</td>\n",
       "      <td>CHN</td>\n",
       "      <td>2012 Summer</td>\n",
       "      <td>2012</td>\n",
       "      <td>Summer</td>\n",
       "      <td>Judo</td>\n",
       "      <td>Judo Men's Extra-Lightweight</td>\n",
       "      <td>0</td>\n",
       "      <td>23.0</td>\n",
       "      <td>170.0</td>\n",
       "      <td>60.0</td>\n",
       "    </tr>\n",
       "    <tr>\n",
       "      <th>2</th>\n",
       "      <td>M</td>\n",
       "      <td>DEN</td>\n",
       "      <td>1920 Summer</td>\n",
       "      <td>1920</td>\n",
       "      <td>Summer</td>\n",
       "      <td>Football</td>\n",
       "      <td>Football Men's Football</td>\n",
       "      <td>0</td>\n",
       "      <td>24.0</td>\n",
       "      <td>190.4</td>\n",
       "      <td>67.8</td>\n",
       "    </tr>\n",
       "    <tr>\n",
       "      <th>3</th>\n",
       "      <td>M</td>\n",
       "      <td>DEN</td>\n",
       "      <td>1900 Summer</td>\n",
       "      <td>1900</td>\n",
       "      <td>Summer</td>\n",
       "      <td>Tug-Of-War</td>\n",
       "      <td>Tug-Of-War Men's Tug-Of-War</td>\n",
       "      <td>1</td>\n",
       "      <td>34.0</td>\n",
       "      <td>176.6</td>\n",
       "      <td>85.4</td>\n",
       "    </tr>\n",
       "    <tr>\n",
       "      <th>4</th>\n",
       "      <td>F</td>\n",
       "      <td>NED</td>\n",
       "      <td>1988 Winter</td>\n",
       "      <td>1988</td>\n",
       "      <td>Winter</td>\n",
       "      <td>Speed Skating</td>\n",
       "      <td>Speed Skating Women's 500 metres</td>\n",
       "      <td>0</td>\n",
       "      <td>21.0</td>\n",
       "      <td>185.0</td>\n",
       "      <td>82.0</td>\n",
       "    </tr>\n",
       "  </tbody>\n",
       "</table>\n",
       "</div>"
      ],
      "text/plain": [
       "  Sex  NOC        Games  Year  Season          Sport  \\\n",
       "0   M  CHN  1992 Summer  1992  Summer     Basketball   \n",
       "1   M  CHN  2012 Summer  2012  Summer           Judo   \n",
       "2   M  DEN  1920 Summer  1920  Summer       Football   \n",
       "3   M  DEN  1900 Summer  1900  Summer     Tug-Of-War   \n",
       "4   F  NED  1988 Winter  1988  Winter  Speed Skating   \n",
       "\n",
       "                              Event  Medal_numeric   Age  Height  Weight  \n",
       "0       Basketball Men's Basketball              0  24.0   180.0    80.0  \n",
       "1      Judo Men's Extra-Lightweight              0  23.0   170.0    60.0  \n",
       "2           Football Men's Football              0  24.0   190.4    67.8  \n",
       "3       Tug-Of-War Men's Tug-Of-War              1  34.0   176.6    85.4  \n",
       "4  Speed Skating Women's 500 metres              0  21.0   185.0    82.0  "
      ]
     },
     "execution_count": 12,
     "metadata": {},
     "output_type": "execute_result"
    }
   ],
   "source": [
    "# Combine inputed data with rest of dataframe. Age, height, and weight must be droped from original dataframe before.\n",
    "df_inputed = pd.concat([df.drop(columns=['Age', 'Height', 'Weight']), df_numeric], axis = 1)\n",
    "df_inputed.head()"
   ]
  },
  {
   "cell_type": "markdown",
   "metadata": {
    "id": "H2Oz50CjF1Z4"
   },
   "source": [
    "# Model"
   ]
  },
  {
   "cell_type": "markdown",
   "metadata": {
    "id": "rR9YVifMF35O"
   },
   "source": [
    "## preprocess data and split test/train set depending on year.\n",
    "\n",
    "We decided to use the data from year 2016 as test data"
   ]
  },
  {
   "cell_type": "code",
   "execution_count": 13,
   "metadata": {
    "id": "Hl6iF9BrGHiE"
   },
   "outputs": [
    {
     "name": "stdout",
     "output_type": "stream",
     "text": [
      "<class 'pandas.core.frame.DataFrame'>\n",
      "RangeIndex: 271116 entries, 0 to 271115\n",
      "Columns: 1120 entries, Year to Event_Wrestling Women's Middleweight, Freestyle\n",
      "dtypes: float64(1120)\n",
      "memory usage: 2.3 GB\n"
     ]
    }
   ],
   "source": [
    "X_year = df_inputed.drop(columns=['Medal_numeric'])\n",
    "\n",
    "X_cat = X_year.select_dtypes(include='object')\n",
    "X_num = X_year.select_dtypes(exclude='object')\n",
    "cat_cols = X_cat.columns\n",
    "num_cols = X_num.columns\n",
    "\n",
    "from sklearn.preprocessing import OneHotEncoder\n",
    "\n",
    "cat_dummy_encoder = OneHotEncoder(handle_unknown='ignore') # ignore categories that may be only in the test data\n",
    "X_cat_ohe = cat_dummy_encoder.fit_transform(X_cat).toarray()\n",
    "cat_ohe_cols = cat_dummy_encoder.get_feature_names(cat_cols)\n",
    "X_cat_ohe = pd.DataFrame(X_cat_ohe, \n",
    "                               columns=cat_ohe_cols)\n",
    "X_cat_ohe.head()\n",
    "\n",
    "\n",
    "from sklearn.preprocessing import StandardScaler\n",
    "\n",
    "ss = StandardScaler()\n",
    "X_num_scaled = ss.fit_transform(X_num)\n",
    "X_num_scaled = pd.DataFrame(X_num_scaled, \n",
    "                                  columns=num_cols)\n",
    "X_num_scaled.head()\n",
    "\n",
    "\n",
    "X_year = pd.concat([X_num_scaled, X_cat_ohe], axis=1)\n",
    "final_columns = X_year.columns.tolist()\n",
    "# just to maintain a proper column order\n",
    "X_year = X_year[final_columns]\n",
    "X_year.info()"
   ]
  },
  {
   "cell_type": "code",
   "execution_count": 14,
   "metadata": {
    "colab": {
     "base_uri": "https://localhost:8080/"
    },
    "id": "wgohjRrYGKGl",
    "outputId": "15327053-00f0-47fe-d08d-9d57cffad582"
   },
   "outputs": [
    {
     "name": "stdout",
     "output_type": "stream",
     "text": [
      "<class 'pandas.core.frame.DataFrame'>\n",
      "Int64Index: 257428 entries, 0 to 271115\n",
      "Columns: 1120 entries, Year to Event_Wrestling Women's Middleweight, Freestyle\n",
      "dtypes: float64(1120)\n",
      "memory usage: 2.2 GB\n"
     ]
    }
   ],
   "source": [
    "X_year_train = X_year[df_inputed.Year != 2016]\n",
    "X_year_test = X_year[df_inputed.Year == 2016]\n",
    "X_year_train.info()"
   ]
  },
  {
   "cell_type": "code",
   "execution_count": 15,
   "metadata": {
    "colab": {
     "base_uri": "https://localhost:8080/"
    },
    "id": "D1RCPGrGGMql",
    "outputId": "6f935c60-abfa-4247-9498-a5225241407f"
   },
   "outputs": [
    {
     "data": {
      "text/plain": [
       "80        0\n",
       "139       0\n",
       "140       0\n",
       "141       0\n",
       "142       0\n",
       "         ..\n",
       "271024    0\n",
       "271053    0\n",
       "271054    0\n",
       "271055    0\n",
       "271110    0\n",
       "Name: Medal_numeric, Length: 13688, dtype: int64"
      ]
     },
     "execution_count": 15,
     "metadata": {},
     "output_type": "execute_result"
    }
   ],
   "source": [
    "y_year_train = df_inputed[df_inputed.Year != 2016]['Medal_numeric']\n",
    "y_year_test = df_inputed[df_inputed.Year == 2016]['Medal_numeric']\n",
    "y_year_test"
   ]
  },
  {
   "cell_type": "markdown",
   "metadata": {
    "id": "ngd1OOCiGUFa"
   },
   "source": [
    "## Overview\n",
    "\n",
    "Get an overview of different models to figure out which work best"
   ]
  },
  {
   "cell_type": "code",
   "execution_count": null,
   "metadata": {
    "colab": {
     "base_uri": "https://localhost:8080/",
     "height": 606
    },
    "id": "i0PNt5LIGSaf",
    "outputId": "daf440c7-43cb-4c05-9f91-ca8ce941c499"
   },
   "outputs": [
    {
     "data": {
      "text/html": [
       "<div>\n",
       "<style scoped>\n",
       "    .dataframe tbody tr th:only-of-type {\n",
       "        vertical-align: middle;\n",
       "    }\n",
       "\n",
       "    .dataframe tbody tr th {\n",
       "        vertical-align: top;\n",
       "    }\n",
       "\n",
       "    .dataframe thead th {\n",
       "        text-align: right;\n",
       "    }\n",
       "</style>\n",
       "<table border=\"1\" class=\"dataframe\">\n",
       "  <thead>\n",
       "    <tr style=\"text-align: right;\">\n",
       "      <th></th>\n",
       "      <th>Sex</th>\n",
       "      <th>NOC</th>\n",
       "      <th>Games</th>\n",
       "      <th>Year</th>\n",
       "      <th>Season</th>\n",
       "      <th>Sport</th>\n",
       "      <th>Event</th>\n",
       "      <th>Medal_numeric</th>\n",
       "      <th>Age</th>\n",
       "      <th>Height</th>\n",
       "      <th>Weight</th>\n",
       "    </tr>\n",
       "  </thead>\n",
       "  <tbody>\n",
       "    <tr>\n",
       "      <th>0</th>\n",
       "      <td>M</td>\n",
       "      <td>CHN</td>\n",
       "      <td>1992 Summer</td>\n",
       "      <td>1992</td>\n",
       "      <td>Summer</td>\n",
       "      <td>Basketball</td>\n",
       "      <td>Basketball Men's Basketball</td>\n",
       "      <td>0</td>\n",
       "      <td>24.0</td>\n",
       "      <td>180.0</td>\n",
       "      <td>80.0</td>\n",
       "    </tr>\n",
       "    <tr>\n",
       "      <th>1</th>\n",
       "      <td>M</td>\n",
       "      <td>CHN</td>\n",
       "      <td>2012 Summer</td>\n",
       "      <td>2012</td>\n",
       "      <td>Summer</td>\n",
       "      <td>Judo</td>\n",
       "      <td>Judo Men's Extra-Lightweight</td>\n",
       "      <td>0</td>\n",
       "      <td>23.0</td>\n",
       "      <td>170.0</td>\n",
       "      <td>60.0</td>\n",
       "    </tr>\n",
       "    <tr>\n",
       "      <th>2</th>\n",
       "      <td>M</td>\n",
       "      <td>DEN</td>\n",
       "      <td>1920 Summer</td>\n",
       "      <td>1920</td>\n",
       "      <td>Summer</td>\n",
       "      <td>Football</td>\n",
       "      <td>Football Men's Football</td>\n",
       "      <td>0</td>\n",
       "      <td>24.0</td>\n",
       "      <td>190.4</td>\n",
       "      <td>67.8</td>\n",
       "    </tr>\n",
       "    <tr>\n",
       "      <th>3</th>\n",
       "      <td>M</td>\n",
       "      <td>DEN</td>\n",
       "      <td>1900 Summer</td>\n",
       "      <td>1900</td>\n",
       "      <td>Summer</td>\n",
       "      <td>Tug-Of-War</td>\n",
       "      <td>Tug-Of-War Men's Tug-Of-War</td>\n",
       "      <td>1</td>\n",
       "      <td>34.0</td>\n",
       "      <td>176.6</td>\n",
       "      <td>85.4</td>\n",
       "    </tr>\n",
       "    <tr>\n",
       "      <th>4</th>\n",
       "      <td>F</td>\n",
       "      <td>NED</td>\n",
       "      <td>1988 Winter</td>\n",
       "      <td>1988</td>\n",
       "      <td>Winter</td>\n",
       "      <td>Speed Skating</td>\n",
       "      <td>Speed Skating Women's 500 metres</td>\n",
       "      <td>0</td>\n",
       "      <td>21.0</td>\n",
       "      <td>185.0</td>\n",
       "      <td>82.0</td>\n",
       "    </tr>\n",
       "    <tr>\n",
       "      <th>...</th>\n",
       "      <td>...</td>\n",
       "      <td>...</td>\n",
       "      <td>...</td>\n",
       "      <td>...</td>\n",
       "      <td>...</td>\n",
       "      <td>...</td>\n",
       "      <td>...</td>\n",
       "      <td>...</td>\n",
       "      <td>...</td>\n",
       "      <td>...</td>\n",
       "      <td>...</td>\n",
       "    </tr>\n",
       "    <tr>\n",
       "      <th>271111</th>\n",
       "      <td>M</td>\n",
       "      <td>POL</td>\n",
       "      <td>1976 Winter</td>\n",
       "      <td>1976</td>\n",
       "      <td>Winter</td>\n",
       "      <td>Luge</td>\n",
       "      <td>Luge Mixed (Men)'s Doubles</td>\n",
       "      <td>0</td>\n",
       "      <td>29.0</td>\n",
       "      <td>179.0</td>\n",
       "      <td>89.0</td>\n",
       "    </tr>\n",
       "    <tr>\n",
       "      <th>271112</th>\n",
       "      <td>M</td>\n",
       "      <td>POL</td>\n",
       "      <td>2014 Winter</td>\n",
       "      <td>2014</td>\n",
       "      <td>Winter</td>\n",
       "      <td>Ski Jumping</td>\n",
       "      <td>Ski Jumping Men's Large Hill, Individual</td>\n",
       "      <td>0</td>\n",
       "      <td>27.0</td>\n",
       "      <td>176.0</td>\n",
       "      <td>59.0</td>\n",
       "    </tr>\n",
       "    <tr>\n",
       "      <th>271113</th>\n",
       "      <td>M</td>\n",
       "      <td>POL</td>\n",
       "      <td>2014 Winter</td>\n",
       "      <td>2014</td>\n",
       "      <td>Winter</td>\n",
       "      <td>Ski Jumping</td>\n",
       "      <td>Ski Jumping Men's Large Hill, Team</td>\n",
       "      <td>0</td>\n",
       "      <td>27.0</td>\n",
       "      <td>176.0</td>\n",
       "      <td>59.0</td>\n",
       "    </tr>\n",
       "    <tr>\n",
       "      <th>271114</th>\n",
       "      <td>M</td>\n",
       "      <td>POL</td>\n",
       "      <td>1998 Winter</td>\n",
       "      <td>1998</td>\n",
       "      <td>Winter</td>\n",
       "      <td>Bobsleigh</td>\n",
       "      <td>Bobsleigh Men's Four</td>\n",
       "      <td>0</td>\n",
       "      <td>30.0</td>\n",
       "      <td>185.0</td>\n",
       "      <td>96.0</td>\n",
       "    </tr>\n",
       "    <tr>\n",
       "      <th>271115</th>\n",
       "      <td>M</td>\n",
       "      <td>POL</td>\n",
       "      <td>2002 Winter</td>\n",
       "      <td>2002</td>\n",
       "      <td>Winter</td>\n",
       "      <td>Bobsleigh</td>\n",
       "      <td>Bobsleigh Men's Four</td>\n",
       "      <td>0</td>\n",
       "      <td>34.0</td>\n",
       "      <td>185.0</td>\n",
       "      <td>96.0</td>\n",
       "    </tr>\n",
       "  </tbody>\n",
       "</table>\n",
       "<p>271116 rows × 11 columns</p>\n",
       "</div>"
      ],
      "text/plain": [
       "       Sex  NOC        Games  Year  ... Medal_numeric   Age Height  Weight\n",
       "0        M  CHN  1992 Summer  1992  ...             0  24.0  180.0    80.0\n",
       "1        M  CHN  2012 Summer  2012  ...             0  23.0  170.0    60.0\n",
       "2        M  DEN  1920 Summer  1920  ...             0  24.0  190.4    67.8\n",
       "3        M  DEN  1900 Summer  1900  ...             1  34.0  176.6    85.4\n",
       "4        F  NED  1988 Winter  1988  ...             0  21.0  185.0    82.0\n",
       "...     ..  ...          ...   ...  ...           ...   ...    ...     ...\n",
       "271111   M  POL  1976 Winter  1976  ...             0  29.0  179.0    89.0\n",
       "271112   M  POL  2014 Winter  2014  ...             0  27.0  176.0    59.0\n",
       "271113   M  POL  2014 Winter  2014  ...             0  27.0  176.0    59.0\n",
       "271114   M  POL  1998 Winter  1998  ...             0  30.0  185.0    96.0\n",
       "271115   M  POL  2002 Winter  2002  ...             0  34.0  185.0    96.0\n",
       "\n",
       "[271116 rows x 11 columns]"
      ]
     },
     "execution_count": 25,
     "metadata": {},
     "output_type": "execute_result"
    }
   ],
   "source": [
    "df_inputed"
   ]
  },
  {
   "cell_type": "code",
   "execution_count": 16,
   "metadata": {
    "id": "VJEYT0RxGTJP"
   },
   "outputs": [
    {
     "data": {
      "text/html": [
       "<style type=\"text/css\">\n",
       "#T_7a19e_row19_col1, #T_7a19e_row44_col1 {\n",
       "  background-color: lightgreen;\n",
       "}\n",
       "</style>\n",
       "<table id=\"T_7a19e_\">\n",
       "  <thead>\n",
       "    <tr>\n",
       "      <th class=\"blank level0\" >&nbsp;</th>\n",
       "      <th class=\"col_heading level0 col0\" >Description</th>\n",
       "      <th class=\"col_heading level0 col1\" >Value</th>\n",
       "    </tr>\n",
       "  </thead>\n",
       "  <tbody>\n",
       "    <tr>\n",
       "      <th id=\"T_7a19e_level0_row0\" class=\"row_heading level0 row0\" >0</th>\n",
       "      <td id=\"T_7a19e_row0_col0\" class=\"data row0 col0\" >session_id</td>\n",
       "      <td id=\"T_7a19e_row0_col1\" class=\"data row0 col1\" >13</td>\n",
       "    </tr>\n",
       "    <tr>\n",
       "      <th id=\"T_7a19e_level0_row1\" class=\"row_heading level0 row1\" >1</th>\n",
       "      <td id=\"T_7a19e_row1_col0\" class=\"data row1 col0\" >Target</td>\n",
       "      <td id=\"T_7a19e_row1_col1\" class=\"data row1 col1\" >Medal_numeric</td>\n",
       "    </tr>\n",
       "    <tr>\n",
       "      <th id=\"T_7a19e_level0_row2\" class=\"row_heading level0 row2\" >2</th>\n",
       "      <td id=\"T_7a19e_row2_col0\" class=\"data row2 col0\" >Target Type</td>\n",
       "      <td id=\"T_7a19e_row2_col1\" class=\"data row2 col1\" >Multiclass</td>\n",
       "    </tr>\n",
       "    <tr>\n",
       "      <th id=\"T_7a19e_level0_row3\" class=\"row_heading level0 row3\" >3</th>\n",
       "      <td id=\"T_7a19e_row3_col0\" class=\"data row3 col0\" >Label Encoded</td>\n",
       "      <td id=\"T_7a19e_row3_col1\" class=\"data row3 col1\" >None</td>\n",
       "    </tr>\n",
       "    <tr>\n",
       "      <th id=\"T_7a19e_level0_row4\" class=\"row_heading level0 row4\" >4</th>\n",
       "      <td id=\"T_7a19e_row4_col0\" class=\"data row4 col0\" >Original Data</td>\n",
       "      <td id=\"T_7a19e_row4_col1\" class=\"data row4 col1\" >(271116, 11)</td>\n",
       "    </tr>\n",
       "    <tr>\n",
       "      <th id=\"T_7a19e_level0_row5\" class=\"row_heading level0 row5\" >5</th>\n",
       "      <td id=\"T_7a19e_row5_col0\" class=\"data row5 col0\" >Missing Values</td>\n",
       "      <td id=\"T_7a19e_row5_col1\" class=\"data row5 col1\" >False</td>\n",
       "    </tr>\n",
       "    <tr>\n",
       "      <th id=\"T_7a19e_level0_row6\" class=\"row_heading level0 row6\" >6</th>\n",
       "      <td id=\"T_7a19e_row6_col0\" class=\"data row6 col0\" >Numeric Features</td>\n",
       "      <td id=\"T_7a19e_row6_col1\" class=\"data row6 col1\" >4</td>\n",
       "    </tr>\n",
       "    <tr>\n",
       "      <th id=\"T_7a19e_level0_row7\" class=\"row_heading level0 row7\" >7</th>\n",
       "      <td id=\"T_7a19e_row7_col0\" class=\"data row7 col0\" >Categorical Features</td>\n",
       "      <td id=\"T_7a19e_row7_col1\" class=\"data row7 col1\" >6</td>\n",
       "    </tr>\n",
       "    <tr>\n",
       "      <th id=\"T_7a19e_level0_row8\" class=\"row_heading level0 row8\" >8</th>\n",
       "      <td id=\"T_7a19e_row8_col0\" class=\"data row8 col0\" >Ordinal Features</td>\n",
       "      <td id=\"T_7a19e_row8_col1\" class=\"data row8 col1\" >False</td>\n",
       "    </tr>\n",
       "    <tr>\n",
       "      <th id=\"T_7a19e_level0_row9\" class=\"row_heading level0 row9\" >9</th>\n",
       "      <td id=\"T_7a19e_row9_col0\" class=\"data row9 col0\" >High Cardinality Features</td>\n",
       "      <td id=\"T_7a19e_row9_col1\" class=\"data row9 col1\" >False</td>\n",
       "    </tr>\n",
       "    <tr>\n",
       "      <th id=\"T_7a19e_level0_row10\" class=\"row_heading level0 row10\" >10</th>\n",
       "      <td id=\"T_7a19e_row10_col0\" class=\"data row10 col0\" >High Cardinality Method</td>\n",
       "      <td id=\"T_7a19e_row10_col1\" class=\"data row10 col1\" >None</td>\n",
       "    </tr>\n",
       "    <tr>\n",
       "      <th id=\"T_7a19e_level0_row11\" class=\"row_heading level0 row11\" >11</th>\n",
       "      <td id=\"T_7a19e_row11_col0\" class=\"data row11 col0\" >Transformed Train Set</td>\n",
       "      <td id=\"T_7a19e_row11_col1\" class=\"data row11 col1\" >(189781, 1104)</td>\n",
       "    </tr>\n",
       "    <tr>\n",
       "      <th id=\"T_7a19e_level0_row12\" class=\"row_heading level0 row12\" >12</th>\n",
       "      <td id=\"T_7a19e_row12_col0\" class=\"data row12 col0\" >Transformed Test Set</td>\n",
       "      <td id=\"T_7a19e_row12_col1\" class=\"data row12 col1\" >(81335, 1104)</td>\n",
       "    </tr>\n",
       "    <tr>\n",
       "      <th id=\"T_7a19e_level0_row13\" class=\"row_heading level0 row13\" >13</th>\n",
       "      <td id=\"T_7a19e_row13_col0\" class=\"data row13 col0\" >Shuffle Train-Test</td>\n",
       "      <td id=\"T_7a19e_row13_col1\" class=\"data row13 col1\" >True</td>\n",
       "    </tr>\n",
       "    <tr>\n",
       "      <th id=\"T_7a19e_level0_row14\" class=\"row_heading level0 row14\" >14</th>\n",
       "      <td id=\"T_7a19e_row14_col0\" class=\"data row14 col0\" >Stratify Train-Test</td>\n",
       "      <td id=\"T_7a19e_row14_col1\" class=\"data row14 col1\" >False</td>\n",
       "    </tr>\n",
       "    <tr>\n",
       "      <th id=\"T_7a19e_level0_row15\" class=\"row_heading level0 row15\" >15</th>\n",
       "      <td id=\"T_7a19e_row15_col0\" class=\"data row15 col0\" >Fold Generator</td>\n",
       "      <td id=\"T_7a19e_row15_col1\" class=\"data row15 col1\" >StratifiedKFold</td>\n",
       "    </tr>\n",
       "    <tr>\n",
       "      <th id=\"T_7a19e_level0_row16\" class=\"row_heading level0 row16\" >16</th>\n",
       "      <td id=\"T_7a19e_row16_col0\" class=\"data row16 col0\" >Fold Number</td>\n",
       "      <td id=\"T_7a19e_row16_col1\" class=\"data row16 col1\" >10</td>\n",
       "    </tr>\n",
       "    <tr>\n",
       "      <th id=\"T_7a19e_level0_row17\" class=\"row_heading level0 row17\" >17</th>\n",
       "      <td id=\"T_7a19e_row17_col0\" class=\"data row17 col0\" >CPU Jobs</td>\n",
       "      <td id=\"T_7a19e_row17_col1\" class=\"data row17 col1\" >-1</td>\n",
       "    </tr>\n",
       "    <tr>\n",
       "      <th id=\"T_7a19e_level0_row18\" class=\"row_heading level0 row18\" >18</th>\n",
       "      <td id=\"T_7a19e_row18_col0\" class=\"data row18 col0\" >Use GPU</td>\n",
       "      <td id=\"T_7a19e_row18_col1\" class=\"data row18 col1\" >False</td>\n",
       "    </tr>\n",
       "    <tr>\n",
       "      <th id=\"T_7a19e_level0_row19\" class=\"row_heading level0 row19\" >19</th>\n",
       "      <td id=\"T_7a19e_row19_col0\" class=\"data row19 col0\" >Log Experiment</td>\n",
       "      <td id=\"T_7a19e_row19_col1\" class=\"data row19 col1\" >True</td>\n",
       "    </tr>\n",
       "    <tr>\n",
       "      <th id=\"T_7a19e_level0_row20\" class=\"row_heading level0 row20\" >20</th>\n",
       "      <td id=\"T_7a19e_row20_col0\" class=\"data row20 col0\" >Experiment Name</td>\n",
       "      <td id=\"T_7a19e_row20_col1\" class=\"data row20 col1\" >model_overview</td>\n",
       "    </tr>\n",
       "    <tr>\n",
       "      <th id=\"T_7a19e_level0_row21\" class=\"row_heading level0 row21\" >21</th>\n",
       "      <td id=\"T_7a19e_row21_col0\" class=\"data row21 col0\" >USI</td>\n",
       "      <td id=\"T_7a19e_row21_col1\" class=\"data row21 col1\" >3b6e</td>\n",
       "    </tr>\n",
       "    <tr>\n",
       "      <th id=\"T_7a19e_level0_row22\" class=\"row_heading level0 row22\" >22</th>\n",
       "      <td id=\"T_7a19e_row22_col0\" class=\"data row22 col0\" >Imputation Type</td>\n",
       "      <td id=\"T_7a19e_row22_col1\" class=\"data row22 col1\" >simple</td>\n",
       "    </tr>\n",
       "    <tr>\n",
       "      <th id=\"T_7a19e_level0_row23\" class=\"row_heading level0 row23\" >23</th>\n",
       "      <td id=\"T_7a19e_row23_col0\" class=\"data row23 col0\" >Iterative Imputation Iteration</td>\n",
       "      <td id=\"T_7a19e_row23_col1\" class=\"data row23 col1\" >None</td>\n",
       "    </tr>\n",
       "    <tr>\n",
       "      <th id=\"T_7a19e_level0_row24\" class=\"row_heading level0 row24\" >24</th>\n",
       "      <td id=\"T_7a19e_row24_col0\" class=\"data row24 col0\" >Numeric Imputer</td>\n",
       "      <td id=\"T_7a19e_row24_col1\" class=\"data row24 col1\" >mean</td>\n",
       "    </tr>\n",
       "    <tr>\n",
       "      <th id=\"T_7a19e_level0_row25\" class=\"row_heading level0 row25\" >25</th>\n",
       "      <td id=\"T_7a19e_row25_col0\" class=\"data row25 col0\" >Iterative Imputation Numeric Model</td>\n",
       "      <td id=\"T_7a19e_row25_col1\" class=\"data row25 col1\" >None</td>\n",
       "    </tr>\n",
       "    <tr>\n",
       "      <th id=\"T_7a19e_level0_row26\" class=\"row_heading level0 row26\" >26</th>\n",
       "      <td id=\"T_7a19e_row26_col0\" class=\"data row26 col0\" >Categorical Imputer</td>\n",
       "      <td id=\"T_7a19e_row26_col1\" class=\"data row26 col1\" >constant</td>\n",
       "    </tr>\n",
       "    <tr>\n",
       "      <th id=\"T_7a19e_level0_row27\" class=\"row_heading level0 row27\" >27</th>\n",
       "      <td id=\"T_7a19e_row27_col0\" class=\"data row27 col0\" >Iterative Imputation Categorical Model</td>\n",
       "      <td id=\"T_7a19e_row27_col1\" class=\"data row27 col1\" >None</td>\n",
       "    </tr>\n",
       "    <tr>\n",
       "      <th id=\"T_7a19e_level0_row28\" class=\"row_heading level0 row28\" >28</th>\n",
       "      <td id=\"T_7a19e_row28_col0\" class=\"data row28 col0\" >Unknown Categoricals Handling</td>\n",
       "      <td id=\"T_7a19e_row28_col1\" class=\"data row28 col1\" >least_frequent</td>\n",
       "    </tr>\n",
       "    <tr>\n",
       "      <th id=\"T_7a19e_level0_row29\" class=\"row_heading level0 row29\" >29</th>\n",
       "      <td id=\"T_7a19e_row29_col0\" class=\"data row29 col0\" >Normalize</td>\n",
       "      <td id=\"T_7a19e_row29_col1\" class=\"data row29 col1\" >False</td>\n",
       "    </tr>\n",
       "    <tr>\n",
       "      <th id=\"T_7a19e_level0_row30\" class=\"row_heading level0 row30\" >30</th>\n",
       "      <td id=\"T_7a19e_row30_col0\" class=\"data row30 col0\" >Normalize Method</td>\n",
       "      <td id=\"T_7a19e_row30_col1\" class=\"data row30 col1\" >None</td>\n",
       "    </tr>\n",
       "    <tr>\n",
       "      <th id=\"T_7a19e_level0_row31\" class=\"row_heading level0 row31\" >31</th>\n",
       "      <td id=\"T_7a19e_row31_col0\" class=\"data row31 col0\" >Transformation</td>\n",
       "      <td id=\"T_7a19e_row31_col1\" class=\"data row31 col1\" >False</td>\n",
       "    </tr>\n",
       "    <tr>\n",
       "      <th id=\"T_7a19e_level0_row32\" class=\"row_heading level0 row32\" >32</th>\n",
       "      <td id=\"T_7a19e_row32_col0\" class=\"data row32 col0\" >Transformation Method</td>\n",
       "      <td id=\"T_7a19e_row32_col1\" class=\"data row32 col1\" >None</td>\n",
       "    </tr>\n",
       "    <tr>\n",
       "      <th id=\"T_7a19e_level0_row33\" class=\"row_heading level0 row33\" >33</th>\n",
       "      <td id=\"T_7a19e_row33_col0\" class=\"data row33 col0\" >PCA</td>\n",
       "      <td id=\"T_7a19e_row33_col1\" class=\"data row33 col1\" >False</td>\n",
       "    </tr>\n",
       "    <tr>\n",
       "      <th id=\"T_7a19e_level0_row34\" class=\"row_heading level0 row34\" >34</th>\n",
       "      <td id=\"T_7a19e_row34_col0\" class=\"data row34 col0\" >PCA Method</td>\n",
       "      <td id=\"T_7a19e_row34_col1\" class=\"data row34 col1\" >None</td>\n",
       "    </tr>\n",
       "    <tr>\n",
       "      <th id=\"T_7a19e_level0_row35\" class=\"row_heading level0 row35\" >35</th>\n",
       "      <td id=\"T_7a19e_row35_col0\" class=\"data row35 col0\" >PCA Components</td>\n",
       "      <td id=\"T_7a19e_row35_col1\" class=\"data row35 col1\" >None</td>\n",
       "    </tr>\n",
       "    <tr>\n",
       "      <th id=\"T_7a19e_level0_row36\" class=\"row_heading level0 row36\" >36</th>\n",
       "      <td id=\"T_7a19e_row36_col0\" class=\"data row36 col0\" >Ignore Low Variance</td>\n",
       "      <td id=\"T_7a19e_row36_col1\" class=\"data row36 col1\" >False</td>\n",
       "    </tr>\n",
       "    <tr>\n",
       "      <th id=\"T_7a19e_level0_row37\" class=\"row_heading level0 row37\" >37</th>\n",
       "      <td id=\"T_7a19e_row37_col0\" class=\"data row37 col0\" >Combine Rare Levels</td>\n",
       "      <td id=\"T_7a19e_row37_col1\" class=\"data row37 col1\" >False</td>\n",
       "    </tr>\n",
       "    <tr>\n",
       "      <th id=\"T_7a19e_level0_row38\" class=\"row_heading level0 row38\" >38</th>\n",
       "      <td id=\"T_7a19e_row38_col0\" class=\"data row38 col0\" >Rare Level Threshold</td>\n",
       "      <td id=\"T_7a19e_row38_col1\" class=\"data row38 col1\" >None</td>\n",
       "    </tr>\n",
       "    <tr>\n",
       "      <th id=\"T_7a19e_level0_row39\" class=\"row_heading level0 row39\" >39</th>\n",
       "      <td id=\"T_7a19e_row39_col0\" class=\"data row39 col0\" >Numeric Binning</td>\n",
       "      <td id=\"T_7a19e_row39_col1\" class=\"data row39 col1\" >False</td>\n",
       "    </tr>\n",
       "    <tr>\n",
       "      <th id=\"T_7a19e_level0_row40\" class=\"row_heading level0 row40\" >40</th>\n",
       "      <td id=\"T_7a19e_row40_col0\" class=\"data row40 col0\" >Remove Outliers</td>\n",
       "      <td id=\"T_7a19e_row40_col1\" class=\"data row40 col1\" >False</td>\n",
       "    </tr>\n",
       "    <tr>\n",
       "      <th id=\"T_7a19e_level0_row41\" class=\"row_heading level0 row41\" >41</th>\n",
       "      <td id=\"T_7a19e_row41_col0\" class=\"data row41 col0\" >Outliers Threshold</td>\n",
       "      <td id=\"T_7a19e_row41_col1\" class=\"data row41 col1\" >None</td>\n",
       "    </tr>\n",
       "    <tr>\n",
       "      <th id=\"T_7a19e_level0_row42\" class=\"row_heading level0 row42\" >42</th>\n",
       "      <td id=\"T_7a19e_row42_col0\" class=\"data row42 col0\" >Remove Multicollinearity</td>\n",
       "      <td id=\"T_7a19e_row42_col1\" class=\"data row42 col1\" >False</td>\n",
       "    </tr>\n",
       "    <tr>\n",
       "      <th id=\"T_7a19e_level0_row43\" class=\"row_heading level0 row43\" >43</th>\n",
       "      <td id=\"T_7a19e_row43_col0\" class=\"data row43 col0\" >Multicollinearity Threshold</td>\n",
       "      <td id=\"T_7a19e_row43_col1\" class=\"data row43 col1\" >None</td>\n",
       "    </tr>\n",
       "    <tr>\n",
       "      <th id=\"T_7a19e_level0_row44\" class=\"row_heading level0 row44\" >44</th>\n",
       "      <td id=\"T_7a19e_row44_col0\" class=\"data row44 col0\" >Remove Perfect Collinearity</td>\n",
       "      <td id=\"T_7a19e_row44_col1\" class=\"data row44 col1\" >True</td>\n",
       "    </tr>\n",
       "    <tr>\n",
       "      <th id=\"T_7a19e_level0_row45\" class=\"row_heading level0 row45\" >45</th>\n",
       "      <td id=\"T_7a19e_row45_col0\" class=\"data row45 col0\" >Clustering</td>\n",
       "      <td id=\"T_7a19e_row45_col1\" class=\"data row45 col1\" >False</td>\n",
       "    </tr>\n",
       "    <tr>\n",
       "      <th id=\"T_7a19e_level0_row46\" class=\"row_heading level0 row46\" >46</th>\n",
       "      <td id=\"T_7a19e_row46_col0\" class=\"data row46 col0\" >Clustering Iteration</td>\n",
       "      <td id=\"T_7a19e_row46_col1\" class=\"data row46 col1\" >None</td>\n",
       "    </tr>\n",
       "    <tr>\n",
       "      <th id=\"T_7a19e_level0_row47\" class=\"row_heading level0 row47\" >47</th>\n",
       "      <td id=\"T_7a19e_row47_col0\" class=\"data row47 col0\" >Polynomial Features</td>\n",
       "      <td id=\"T_7a19e_row47_col1\" class=\"data row47 col1\" >False</td>\n",
       "    </tr>\n",
       "    <tr>\n",
       "      <th id=\"T_7a19e_level0_row48\" class=\"row_heading level0 row48\" >48</th>\n",
       "      <td id=\"T_7a19e_row48_col0\" class=\"data row48 col0\" >Polynomial Degree</td>\n",
       "      <td id=\"T_7a19e_row48_col1\" class=\"data row48 col1\" >None</td>\n",
       "    </tr>\n",
       "    <tr>\n",
       "      <th id=\"T_7a19e_level0_row49\" class=\"row_heading level0 row49\" >49</th>\n",
       "      <td id=\"T_7a19e_row49_col0\" class=\"data row49 col0\" >Trignometry Features</td>\n",
       "      <td id=\"T_7a19e_row49_col1\" class=\"data row49 col1\" >False</td>\n",
       "    </tr>\n",
       "    <tr>\n",
       "      <th id=\"T_7a19e_level0_row50\" class=\"row_heading level0 row50\" >50</th>\n",
       "      <td id=\"T_7a19e_row50_col0\" class=\"data row50 col0\" >Polynomial Threshold</td>\n",
       "      <td id=\"T_7a19e_row50_col1\" class=\"data row50 col1\" >None</td>\n",
       "    </tr>\n",
       "    <tr>\n",
       "      <th id=\"T_7a19e_level0_row51\" class=\"row_heading level0 row51\" >51</th>\n",
       "      <td id=\"T_7a19e_row51_col0\" class=\"data row51 col0\" >Group Features</td>\n",
       "      <td id=\"T_7a19e_row51_col1\" class=\"data row51 col1\" >False</td>\n",
       "    </tr>\n",
       "    <tr>\n",
       "      <th id=\"T_7a19e_level0_row52\" class=\"row_heading level0 row52\" >52</th>\n",
       "      <td id=\"T_7a19e_row52_col0\" class=\"data row52 col0\" >Feature Selection</td>\n",
       "      <td id=\"T_7a19e_row52_col1\" class=\"data row52 col1\" >False</td>\n",
       "    </tr>\n",
       "    <tr>\n",
       "      <th id=\"T_7a19e_level0_row53\" class=\"row_heading level0 row53\" >53</th>\n",
       "      <td id=\"T_7a19e_row53_col0\" class=\"data row53 col0\" >Feature Selection Method</td>\n",
       "      <td id=\"T_7a19e_row53_col1\" class=\"data row53 col1\" >classic</td>\n",
       "    </tr>\n",
       "    <tr>\n",
       "      <th id=\"T_7a19e_level0_row54\" class=\"row_heading level0 row54\" >54</th>\n",
       "      <td id=\"T_7a19e_row54_col0\" class=\"data row54 col0\" >Features Selection Threshold</td>\n",
       "      <td id=\"T_7a19e_row54_col1\" class=\"data row54 col1\" >None</td>\n",
       "    </tr>\n",
       "    <tr>\n",
       "      <th id=\"T_7a19e_level0_row55\" class=\"row_heading level0 row55\" >55</th>\n",
       "      <td id=\"T_7a19e_row55_col0\" class=\"data row55 col0\" >Feature Interaction</td>\n",
       "      <td id=\"T_7a19e_row55_col1\" class=\"data row55 col1\" >False</td>\n",
       "    </tr>\n",
       "    <tr>\n",
       "      <th id=\"T_7a19e_level0_row56\" class=\"row_heading level0 row56\" >56</th>\n",
       "      <td id=\"T_7a19e_row56_col0\" class=\"data row56 col0\" >Feature Ratio</td>\n",
       "      <td id=\"T_7a19e_row56_col1\" class=\"data row56 col1\" >False</td>\n",
       "    </tr>\n",
       "    <tr>\n",
       "      <th id=\"T_7a19e_level0_row57\" class=\"row_heading level0 row57\" >57</th>\n",
       "      <td id=\"T_7a19e_row57_col0\" class=\"data row57 col0\" >Interaction Threshold</td>\n",
       "      <td id=\"T_7a19e_row57_col1\" class=\"data row57 col1\" >None</td>\n",
       "    </tr>\n",
       "    <tr>\n",
       "      <th id=\"T_7a19e_level0_row58\" class=\"row_heading level0 row58\" >58</th>\n",
       "      <td id=\"T_7a19e_row58_col0\" class=\"data row58 col0\" >Fix Imbalance</td>\n",
       "      <td id=\"T_7a19e_row58_col1\" class=\"data row58 col1\" >False</td>\n",
       "    </tr>\n",
       "    <tr>\n",
       "      <th id=\"T_7a19e_level0_row59\" class=\"row_heading level0 row59\" >59</th>\n",
       "      <td id=\"T_7a19e_row59_col0\" class=\"data row59 col0\" >Fix Imbalance Method</td>\n",
       "      <td id=\"T_7a19e_row59_col1\" class=\"data row59 col1\" >SMOTE</td>\n",
       "    </tr>\n",
       "  </tbody>\n",
       "</table>\n"
      ],
      "text/plain": [
       "<pandas.io.formats.style.Styler at 0x2abde487348>"
      ]
     },
     "metadata": {},
     "output_type": "display_data"
    }
   ],
   "source": [
    "from pycaret.classification import *\n",
    "\n",
    "reg = setup(data=df_inputed, \n",
    "            target = 'Medal_numeric', \n",
    "            session_id=13, \n",
    "            log_experiment=True, \n",
    "            experiment_name='model_overview')"
   ]
  },
  {
   "cell_type": "code",
   "execution_count": 17,
   "metadata": {
    "id": "iadHAAJNGdTB"
   },
   "outputs": [
    {
     "data": {
      "text/html": [
       "<style type=\"text/css\">\n",
       "#T_58f1b_ th {\n",
       "  text-align: left;\n",
       "}\n",
       "#T_58f1b_row0_col0, #T_58f1b_row0_col3, #T_58f1b_row1_col0, #T_58f1b_row1_col1, #T_58f1b_row1_col2, #T_58f1b_row1_col3, #T_58f1b_row1_col4, #T_58f1b_row1_col5, #T_58f1b_row1_col6, #T_58f1b_row1_col7, #T_58f1b_row2_col0, #T_58f1b_row2_col1, #T_58f1b_row2_col2, #T_58f1b_row2_col4, #T_58f1b_row2_col5, #T_58f1b_row2_col6, #T_58f1b_row2_col7, #T_58f1b_row3_col0, #T_58f1b_row3_col1, #T_58f1b_row3_col2, #T_58f1b_row3_col3, #T_58f1b_row3_col4, #T_58f1b_row3_col5, #T_58f1b_row3_col6, #T_58f1b_row3_col7, #T_58f1b_row4_col0, #T_58f1b_row4_col1, #T_58f1b_row4_col2, #T_58f1b_row4_col3, #T_58f1b_row4_col4, #T_58f1b_row4_col5, #T_58f1b_row4_col6, #T_58f1b_row4_col7, #T_58f1b_row5_col0, #T_58f1b_row5_col1, #T_58f1b_row5_col2, #T_58f1b_row5_col3, #T_58f1b_row5_col4, #T_58f1b_row5_col5, #T_58f1b_row5_col6, #T_58f1b_row5_col7, #T_58f1b_row6_col0, #T_58f1b_row6_col1, #T_58f1b_row6_col2, #T_58f1b_row6_col3, #T_58f1b_row6_col4, #T_58f1b_row6_col5, #T_58f1b_row6_col6, #T_58f1b_row6_col7, #T_58f1b_row7_col0, #T_58f1b_row7_col1, #T_58f1b_row7_col2, #T_58f1b_row7_col3, #T_58f1b_row7_col4, #T_58f1b_row7_col5, #T_58f1b_row7_col6, #T_58f1b_row7_col7, #T_58f1b_row8_col0, #T_58f1b_row8_col1, #T_58f1b_row8_col2, #T_58f1b_row8_col3, #T_58f1b_row8_col4, #T_58f1b_row8_col5, #T_58f1b_row8_col6, #T_58f1b_row8_col7, #T_58f1b_row9_col0, #T_58f1b_row9_col1, #T_58f1b_row9_col2, #T_58f1b_row9_col3, #T_58f1b_row9_col4, #T_58f1b_row9_col5, #T_58f1b_row9_col6, #T_58f1b_row9_col7, #T_58f1b_row10_col0, #T_58f1b_row10_col1, #T_58f1b_row10_col2, #T_58f1b_row10_col3, #T_58f1b_row10_col4, #T_58f1b_row10_col5, #T_58f1b_row10_col6, #T_58f1b_row10_col7, #T_58f1b_row11_col0, #T_58f1b_row11_col1, #T_58f1b_row11_col2, #T_58f1b_row11_col3, #T_58f1b_row11_col4, #T_58f1b_row11_col5, #T_58f1b_row11_col6, #T_58f1b_row11_col7, #T_58f1b_row12_col0, #T_58f1b_row12_col1, #T_58f1b_row12_col2, #T_58f1b_row12_col3, #T_58f1b_row12_col4, #T_58f1b_row12_col5, #T_58f1b_row12_col6, #T_58f1b_row12_col7, #T_58f1b_row13_col0, #T_58f1b_row13_col1, #T_58f1b_row13_col2, #T_58f1b_row13_col3, #T_58f1b_row13_col4, #T_58f1b_row13_col5, #T_58f1b_row13_col6, #T_58f1b_row13_col7, #T_58f1b_row14_col0, #T_58f1b_row14_col1, #T_58f1b_row14_col2, #T_58f1b_row14_col3, #T_58f1b_row14_col4, #T_58f1b_row14_col5, #T_58f1b_row14_col6, #T_58f1b_row14_col7 {\n",
       "  text-align: left;\n",
       "}\n",
       "#T_58f1b_row0_col1, #T_58f1b_row0_col2, #T_58f1b_row0_col4, #T_58f1b_row0_col5, #T_58f1b_row0_col6, #T_58f1b_row0_col7, #T_58f1b_row2_col3 {\n",
       "  text-align: left;\n",
       "  background-color: yellow;\n",
       "}\n",
       "#T_58f1b_row0_col8, #T_58f1b_row1_col8, #T_58f1b_row2_col8, #T_58f1b_row3_col8, #T_58f1b_row4_col8, #T_58f1b_row5_col8, #T_58f1b_row6_col8, #T_58f1b_row7_col8, #T_58f1b_row8_col8, #T_58f1b_row9_col8, #T_58f1b_row10_col8, #T_58f1b_row11_col8, #T_58f1b_row12_col8, #T_58f1b_row13_col8 {\n",
       "  text-align: left;\n",
       "  background-color: lightgrey;\n",
       "}\n",
       "#T_58f1b_row14_col8 {\n",
       "  text-align: left;\n",
       "  background-color: yellow;\n",
       "  background-color: lightgrey;\n",
       "}\n",
       "</style>\n",
       "<table id=\"T_58f1b_\">\n",
       "  <thead>\n",
       "    <tr>\n",
       "      <th class=\"blank level0\" >&nbsp;</th>\n",
       "      <th class=\"col_heading level0 col0\" >Model</th>\n",
       "      <th class=\"col_heading level0 col1\" >Accuracy</th>\n",
       "      <th class=\"col_heading level0 col2\" >AUC</th>\n",
       "      <th class=\"col_heading level0 col3\" >Recall</th>\n",
       "      <th class=\"col_heading level0 col4\" >Prec.</th>\n",
       "      <th class=\"col_heading level0 col5\" >F1</th>\n",
       "      <th class=\"col_heading level0 col6\" >Kappa</th>\n",
       "      <th class=\"col_heading level0 col7\" >MCC</th>\n",
       "      <th class=\"col_heading level0 col8\" >TT (Sec)</th>\n",
       "    </tr>\n",
       "  </thead>\n",
       "  <tbody>\n",
       "    <tr>\n",
       "      <th id=\"T_58f1b_level0_row0\" class=\"row_heading level0 row0\" >et</th>\n",
       "      <td id=\"T_58f1b_row0_col0\" class=\"data row0 col0\" >Extra Trees Classifier</td>\n",
       "      <td id=\"T_58f1b_row0_col1\" class=\"data row0 col1\" >0.9182</td>\n",
       "      <td id=\"T_58f1b_row0_col2\" class=\"data row0 col2\" >0.9027</td>\n",
       "      <td id=\"T_58f1b_row0_col3\" class=\"data row0 col3\" >0.6448</td>\n",
       "      <td id=\"T_58f1b_row0_col4\" class=\"data row0 col4\" >0.9115</td>\n",
       "      <td id=\"T_58f1b_row0_col5\" class=\"data row0 col5\" >0.9104</td>\n",
       "      <td id=\"T_58f1b_row0_col6\" class=\"data row0 col6\" >0.6378</td>\n",
       "      <td id=\"T_58f1b_row0_col7\" class=\"data row0 col7\" >0.6529</td>\n",
       "      <td id=\"T_58f1b_row0_col8\" class=\"data row0 col8\" >211.4080</td>\n",
       "    </tr>\n",
       "    <tr>\n",
       "      <th id=\"T_58f1b_level0_row1\" class=\"row_heading level0 row1\" >rf</th>\n",
       "      <td id=\"T_58f1b_row1_col0\" class=\"data row1 col0\" >Random Forest Classifier</td>\n",
       "      <td id=\"T_58f1b_row1_col1\" class=\"data row1 col1\" >0.9042</td>\n",
       "      <td id=\"T_58f1b_row1_col2\" class=\"data row1 col2\" >0.8957</td>\n",
       "      <td id=\"T_58f1b_row1_col3\" class=\"data row1 col3\" >0.5262</td>\n",
       "      <td id=\"T_58f1b_row1_col4\" class=\"data row1 col4\" >0.9023</td>\n",
       "      <td id=\"T_58f1b_row1_col5\" class=\"data row1 col5\" >0.8856</td>\n",
       "      <td id=\"T_58f1b_row1_col6\" class=\"data row1 col6\" >0.5118</td>\n",
       "      <td id=\"T_58f1b_row1_col7\" class=\"data row1 col7\" >0.5681</td>\n",
       "      <td id=\"T_58f1b_row1_col8\" class=\"data row1 col8\" >136.7180</td>\n",
       "    </tr>\n",
       "    <tr>\n",
       "      <th id=\"T_58f1b_level0_row2\" class=\"row_heading level0 row2\" >dt</th>\n",
       "      <td id=\"T_58f1b_row2_col0\" class=\"data row2 col0\" >Decision Tree Classifier</td>\n",
       "      <td id=\"T_58f1b_row2_col1\" class=\"data row2 col1\" >0.8872</td>\n",
       "      <td id=\"T_58f1b_row2_col2\" class=\"data row2 col2\" >0.8001</td>\n",
       "      <td id=\"T_58f1b_row2_col3\" class=\"data row2 col3\" >0.6516</td>\n",
       "      <td id=\"T_58f1b_row2_col4\" class=\"data row2 col4\" >0.8864</td>\n",
       "      <td id=\"T_58f1b_row2_col5\" class=\"data row2 col5\" >0.8868</td>\n",
       "      <td id=\"T_58f1b_row2_col6\" class=\"data row2 col6\" >0.5712</td>\n",
       "      <td id=\"T_58f1b_row2_col7\" class=\"data row2 col7\" >0.5712</td>\n",
       "      <td id=\"T_58f1b_row2_col8\" class=\"data row2 col8\" >20.7680</td>\n",
       "    </tr>\n",
       "    <tr>\n",
       "      <th id=\"T_58f1b_level0_row3\" class=\"row_heading level0 row3\" >xgboost</th>\n",
       "      <td id=\"T_58f1b_row3_col0\" class=\"data row3 col0\" >Extreme Gradient Boosting</td>\n",
       "      <td id=\"T_58f1b_row3_col1\" class=\"data row3 col1\" >0.8701</td>\n",
       "      <td id=\"T_58f1b_row3_col2\" class=\"data row3 col2\" >0.8439</td>\n",
       "      <td id=\"T_58f1b_row3_col3\" class=\"data row3 col3\" >0.3387</td>\n",
       "      <td id=\"T_58f1b_row3_col4\" class=\"data row3 col4\" >0.8676</td>\n",
       "      <td id=\"T_58f1b_row3_col5\" class=\"data row3 col5\" >0.8232</td>\n",
       "      <td id=\"T_58f1b_row3_col6\" class=\"data row3 col6\" >0.2048</td>\n",
       "      <td id=\"T_58f1b_row3_col7\" class=\"data row3 col7\" >0.3220</td>\n",
       "      <td id=\"T_58f1b_row3_col8\" class=\"data row3 col8\" >1028.0660</td>\n",
       "    </tr>\n",
       "    <tr>\n",
       "      <th id=\"T_58f1b_level0_row4\" class=\"row_heading level0 row4\" >catboost</th>\n",
       "      <td id=\"T_58f1b_row4_col0\" class=\"data row4 col0\" >CatBoost Classifier</td>\n",
       "      <td id=\"T_58f1b_row4_col1\" class=\"data row4 col1\" >0.8681</td>\n",
       "      <td id=\"T_58f1b_row4_col2\" class=\"data row4 col2\" >0.8354</td>\n",
       "      <td id=\"T_58f1b_row4_col3\" class=\"data row4 col3\" >0.3285</td>\n",
       "      <td id=\"T_58f1b_row4_col4\" class=\"data row4 col4\" >0.8577</td>\n",
       "      <td id=\"T_58f1b_row4_col5\" class=\"data row4 col5\" >0.8190</td>\n",
       "      <td id=\"T_58f1b_row4_col6\" class=\"data row4 col6\" >0.1889</td>\n",
       "      <td id=\"T_58f1b_row4_col7\" class=\"data row4 col7\" >0.3022</td>\n",
       "      <td id=\"T_58f1b_row4_col8\" class=\"data row4 col8\" >65.3640</td>\n",
       "    </tr>\n",
       "    <tr>\n",
       "      <th id=\"T_58f1b_level0_row5\" class=\"row_heading level0 row5\" >lightgbm</th>\n",
       "      <td id=\"T_58f1b_row5_col0\" class=\"data row5 col0\" >Light Gradient Boosting Machine</td>\n",
       "      <td id=\"T_58f1b_row5_col1\" class=\"data row5 col1\" >0.8671</td>\n",
       "      <td id=\"T_58f1b_row5_col2\" class=\"data row5 col2\" >0.8450</td>\n",
       "      <td id=\"T_58f1b_row5_col3\" class=\"data row5 col3\" >0.3222</td>\n",
       "      <td id=\"T_58f1b_row5_col4\" class=\"data row5 col4\" >0.8600</td>\n",
       "      <td id=\"T_58f1b_row5_col5\" class=\"data row5 col5\" >0.8169</td>\n",
       "      <td id=\"T_58f1b_row5_col6\" class=\"data row5 col6\" >0.1738</td>\n",
       "      <td id=\"T_58f1b_row5_col7\" class=\"data row5 col7\" >0.2913</td>\n",
       "      <td id=\"T_58f1b_row5_col8\" class=\"data row5 col8\" >9.7660</td>\n",
       "    </tr>\n",
       "    <tr>\n",
       "      <th id=\"T_58f1b_level0_row6\" class=\"row_heading level0 row6\" >gbc</th>\n",
       "      <td id=\"T_58f1b_row6_col0\" class=\"data row6 col0\" >Gradient Boosting Classifier</td>\n",
       "      <td id=\"T_58f1b_row6_col1\" class=\"data row6 col1\" >0.8589</td>\n",
       "      <td id=\"T_58f1b_row6_col2\" class=\"data row6 col2\" >0.7704</td>\n",
       "      <td id=\"T_58f1b_row6_col3\" class=\"data row6 col3\" >0.2788</td>\n",
       "      <td id=\"T_58f1b_row6_col4\" class=\"data row6 col4\" >0.8594</td>\n",
       "      <td id=\"T_58f1b_row6_col5\" class=\"data row6 col5\" >0.7991</td>\n",
       "      <td id=\"T_58f1b_row6_col6\" class=\"data row6 col6\" >0.0728</td>\n",
       "      <td id=\"T_58f1b_row6_col7\" class=\"data row6 col7\" >0.1845</td>\n",
       "      <td id=\"T_58f1b_row6_col8\" class=\"data row6 col8\" >1007.0640</td>\n",
       "    </tr>\n",
       "    <tr>\n",
       "      <th id=\"T_58f1b_level0_row7\" class=\"row_heading level0 row7\" >ridge</th>\n",
       "      <td id=\"T_58f1b_row7_col0\" class=\"data row7 col0\" >Ridge Classifier</td>\n",
       "      <td id=\"T_58f1b_row7_col1\" class=\"data row7 col1\" >0.8543</td>\n",
       "      <td id=\"T_58f1b_row7_col2\" class=\"data row7 col2\" >0.0000</td>\n",
       "      <td id=\"T_58f1b_row7_col3\" class=\"data row7 col3\" >0.2579</td>\n",
       "      <td id=\"T_58f1b_row7_col4\" class=\"data row7 col4\" >0.7767</td>\n",
       "      <td id=\"T_58f1b_row7_col5\" class=\"data row7 col5\" >0.7902</td>\n",
       "      <td id=\"T_58f1b_row7_col6\" class=\"data row7 col6\" >0.0302</td>\n",
       "      <td id=\"T_58f1b_row7_col7\" class=\"data row7 col7\" >0.0944</td>\n",
       "      <td id=\"T_58f1b_row7_col8\" class=\"data row7 col8\" >5.2300</td>\n",
       "    </tr>\n",
       "    <tr>\n",
       "      <th id=\"T_58f1b_level0_row8\" class=\"row_heading level0 row8\" >qda</th>\n",
       "      <td id=\"T_58f1b_row8_col0\" class=\"data row8 col0\" >Quadratic Discriminant Analysis</td>\n",
       "      <td id=\"T_58f1b_row8_col1\" class=\"data row8 col1\" >0.8541</td>\n",
       "      <td id=\"T_58f1b_row8_col2\" class=\"data row8 col2\" >0.5082</td>\n",
       "      <td id=\"T_58f1b_row8_col3\" class=\"data row8 col3\" >0.2547</td>\n",
       "      <td id=\"T_58f1b_row8_col4\" class=\"data row8 col4\" >0.7792</td>\n",
       "      <td id=\"T_58f1b_row8_col5\" class=\"data row8 col5\" >0.7887</td>\n",
       "      <td id=\"T_58f1b_row8_col6\" class=\"data row8 col6\" >0.0206</td>\n",
       "      <td id=\"T_58f1b_row8_col7\" class=\"data row8 col7\" >0.0797</td>\n",
       "      <td id=\"T_58f1b_row8_col8\" class=\"data row8 col8\" >80.5260</td>\n",
       "    </tr>\n",
       "    <tr>\n",
       "      <th id=\"T_58f1b_level0_row9\" class=\"row_heading level0 row9\" >ada</th>\n",
       "      <td id=\"T_58f1b_row9_col0\" class=\"data row9 col0\" >Ada Boost Classifier</td>\n",
       "      <td id=\"T_58f1b_row9_col1\" class=\"data row9 col1\" >0.8537</td>\n",
       "      <td id=\"T_58f1b_row9_col2\" class=\"data row9 col2\" >0.7315</td>\n",
       "      <td id=\"T_58f1b_row9_col3\" class=\"data row9 col3\" >0.2522</td>\n",
       "      <td id=\"T_58f1b_row9_col4\" class=\"data row9 col4\" >0.7705</td>\n",
       "      <td id=\"T_58f1b_row9_col5\" class=\"data row9 col5\" >0.7869</td>\n",
       "      <td id=\"T_58f1b_row9_col6\" class=\"data row9 col6\" >0.0069</td>\n",
       "      <td id=\"T_58f1b_row9_col7\" class=\"data row9 col7\" >0.0485</td>\n",
       "      <td id=\"T_58f1b_row9_col8\" class=\"data row9 col8\" >58.1620</td>\n",
       "    </tr>\n",
       "    <tr>\n",
       "      <th id=\"T_58f1b_level0_row10\" class=\"row_heading level0 row10\" >lr</th>\n",
       "      <td id=\"T_58f1b_row10_col0\" class=\"data row10 col0\" >Logistic Regression</td>\n",
       "      <td id=\"T_58f1b_row10_col1\" class=\"data row10 col1\" >0.8533</td>\n",
       "      <td id=\"T_58f1b_row10_col2\" class=\"data row10 col2\" >0.7225</td>\n",
       "      <td id=\"T_58f1b_row10_col3\" class=\"data row10 col3\" >0.2510</td>\n",
       "      <td id=\"T_58f1b_row10_col4\" class=\"data row10 col4\" >0.7395</td>\n",
       "      <td id=\"T_58f1b_row10_col5\" class=\"data row10 col5\" >0.7863</td>\n",
       "      <td id=\"T_58f1b_row10_col6\" class=\"data row10 col6\" >0.0033</td>\n",
       "      <td id=\"T_58f1b_row10_col7\" class=\"data row10 col7\" >0.0219</td>\n",
       "      <td id=\"T_58f1b_row10_col8\" class=\"data row10 col8\" >601.9020</td>\n",
       "    </tr>\n",
       "    <tr>\n",
       "      <th id=\"T_58f1b_level0_row11\" class=\"row_heading level0 row11\" >lda</th>\n",
       "      <td id=\"T_58f1b_row11_col0\" class=\"data row11 col0\" >Linear Discriminant Analysis</td>\n",
       "      <td id=\"T_58f1b_row11_col1\" class=\"data row11 col1\" >0.8513</td>\n",
       "      <td id=\"T_58f1b_row11_col2\" class=\"data row11 col2\" >0.7740</td>\n",
       "      <td id=\"T_58f1b_row11_col3\" class=\"data row11 col3\" >0.2885</td>\n",
       "      <td id=\"T_58f1b_row11_col4\" class=\"data row11 col4\" >0.7731</td>\n",
       "      <td id=\"T_58f1b_row11_col5\" class=\"data row11 col5\" >0.8010</td>\n",
       "      <td id=\"T_58f1b_row11_col6\" class=\"data row11 col6\" >0.1283</td>\n",
       "      <td id=\"T_58f1b_row11_col7\" class=\"data row11 col7\" >0.1765</td>\n",
       "      <td id=\"T_58f1b_row11_col8\" class=\"data row11 col8\" >92.7420</td>\n",
       "    </tr>\n",
       "    <tr>\n",
       "      <th id=\"T_58f1b_level0_row12\" class=\"row_heading level0 row12\" >knn</th>\n",
       "      <td id=\"T_58f1b_row12_col0\" class=\"data row12 col0\" >K Neighbors Classifier</td>\n",
       "      <td id=\"T_58f1b_row12_col1\" class=\"data row12 col1\" >0.8483</td>\n",
       "      <td id=\"T_58f1b_row12_col2\" class=\"data row12 col2\" >0.6316</td>\n",
       "      <td id=\"T_58f1b_row12_col3\" class=\"data row12 col3\" >0.2675</td>\n",
       "      <td id=\"T_58f1b_row12_col4\" class=\"data row12 col4\" >0.7656</td>\n",
       "      <td id=\"T_58f1b_row12_col5\" class=\"data row12 col5\" >0.7918</td>\n",
       "      <td id=\"T_58f1b_row12_col6\" class=\"data row12 col6\" >0.0546</td>\n",
       "      <td id=\"T_58f1b_row12_col7\" class=\"data row12 col7\" >0.0925</td>\n",
       "      <td id=\"T_58f1b_row12_col8\" class=\"data row12 col8\" >155.2940</td>\n",
       "    </tr>\n",
       "    <tr>\n",
       "      <th id=\"T_58f1b_level0_row13\" class=\"row_heading level0 row13\" >svm</th>\n",
       "      <td id=\"T_58f1b_row13_col0\" class=\"data row13 col0\" >SVM - Linear Kernel</td>\n",
       "      <td id=\"T_58f1b_row13_col1\" class=\"data row13 col1\" >0.7938</td>\n",
       "      <td id=\"T_58f1b_row13_col2\" class=\"data row13 col2\" >0.0000</td>\n",
       "      <td id=\"T_58f1b_row13_col3\" class=\"data row13 col3\" >0.2741</td>\n",
       "      <td id=\"T_58f1b_row13_col4\" class=\"data row13 col4\" >0.7436</td>\n",
       "      <td id=\"T_58f1b_row13_col5\" class=\"data row13 col5\" >0.7607</td>\n",
       "      <td id=\"T_58f1b_row13_col6\" class=\"data row13 col6\" >0.0466</td>\n",
       "      <td id=\"T_58f1b_row13_col7\" class=\"data row13 col7\" >0.0529</td>\n",
       "      <td id=\"T_58f1b_row13_col8\" class=\"data row13 col8\" >315.2020</td>\n",
       "    </tr>\n",
       "    <tr>\n",
       "      <th id=\"T_58f1b_level0_row14\" class=\"row_heading level0 row14\" >nb</th>\n",
       "      <td id=\"T_58f1b_row14_col0\" class=\"data row14 col0\" >Naive Bayes</td>\n",
       "      <td id=\"T_58f1b_row14_col1\" class=\"data row14 col1\" >0.1917</td>\n",
       "      <td id=\"T_58f1b_row14_col2\" class=\"data row14 col2\" >0.7074</td>\n",
       "      <td id=\"T_58f1b_row14_col3\" class=\"data row14 col3\" >0.2712</td>\n",
       "      <td id=\"T_58f1b_row14_col4\" class=\"data row14 col4\" >0.8334</td>\n",
       "      <td id=\"T_58f1b_row14_col5\" class=\"data row14 col5\" >0.2614</td>\n",
       "      <td id=\"T_58f1b_row14_col6\" class=\"data row14 col6\" >0.0249</td>\n",
       "      <td id=\"T_58f1b_row14_col7\" class=\"data row14 col7\" >0.0502</td>\n",
       "      <td id=\"T_58f1b_row14_col8\" class=\"data row14 col8\" >5.1660</td>\n",
       "    </tr>\n",
       "  </tbody>\n",
       "</table>\n"
      ],
      "text/plain": [
       "<pandas.io.formats.style.Styler at 0x2ad91f26408>"
      ]
     },
     "metadata": {},
     "output_type": "display_data"
    }
   ],
   "source": [
    "best_model = compare_models(fold=5)"
   ]
  },
  {
   "cell_type": "markdown",
   "metadata": {
    "id": "5CYhFGt5G3Vf"
   },
   "source": [
    "We decided to use the Decision Tree Classifier for further steps."
   ]
  },
  {
   "cell_type": "markdown",
   "metadata": {
    "id": "_TKr5G2fG6Ay"
   },
   "source": [
    "## Decision Tree Classifier"
   ]
  },
  {
   "cell_type": "code",
   "execution_count": 18,
   "metadata": {
    "colab": {
     "base_uri": "https://localhost:8080/"
    },
    "id": "sUFhWt3fGd9m",
    "outputId": "f915f1b9-90cd-4877-95a0-b31badc9c4c2"
   },
   "outputs": [
    {
     "data": {
      "text/plain": [
       "DecisionTreeClassifier(ccp_alpha=0.0, class_weight=None, criterion='gini',\n",
       "                       max_depth=None, max_features=None, max_leaf_nodes=None,\n",
       "                       min_impurity_decrease=0.0, min_impurity_split=None,\n",
       "                       min_samples_leaf=1, min_samples_split=2,\n",
       "                       min_weight_fraction_leaf=0.0, presort='deprecated',\n",
       "                       random_state=None, splitter='best')"
      ]
     },
     "execution_count": 18,
     "metadata": {},
     "output_type": "execute_result"
    }
   ],
   "source": [
    "from sklearn.tree import DecisionTreeClassifier\n",
    "\n",
    "dtc_year = DecisionTreeClassifier()\n",
    "dtc_year.fit(X_year_train, y_year_train)"
   ]
  },
  {
   "cell_type": "code",
   "execution_count": null,
   "metadata": {
    "colab": {
     "base_uri": "https://localhost:8080/"
    },
    "id": "Fkp9NjfFHRUW",
    "outputId": "34e6470b-88c7-4f95-b91b-0f63c0d1642f"
   },
   "outputs": [
    {
     "data": {
      "text/plain": [
       "['dtc_default_model.sav']"
      ]
     },
     "execution_count": 27,
     "metadata": {},
     "output_type": "execute_result"
    }
   ],
   "source": [
    "import joblib\n",
    "\n",
    "# save the model to disk\n",
    "filename = 'dtc_default_model.sav'\n",
    "joblib.dump(dtc_year, filename)"
   ]
  },
  {
   "cell_type": "code",
   "execution_count": null,
   "metadata": {
    "colab": {
     "base_uri": "https://localhost:8080/"
    },
    "id": "GDPRLzJuHUz7",
    "outputId": "31bdc1b1-e2e6-4ebc-840d-c876a5389559"
   },
   "outputs": [
    {
     "data": {
      "text/plain": [
       "array([0.8978776 , 0.89127566, 0.88729468, 0.894718  , 0.88952583])"
      ]
     },
     "execution_count": 28,
     "metadata": {},
     "output_type": "execute_result"
    }
   ],
   "source": [
    "from sklearn.model_selection import cross_val_score\n",
    "\n",
    "scores = cross_val_score(dtc_year, X_year_train, y_year_train, cv=5, scoring='f1_weighted')\n",
    "scores"
   ]
  },
  {
   "cell_type": "markdown",
   "metadata": {
    "id": "33jOuHoaHavp"
   },
   "source": [
    "### Tuning Hyperparameters"
   ]
  },
  {
   "cell_type": "markdown",
   "metadata": {
    "id": "5Wewy1BZHtcT"
   },
   "source": [
    "#### Grid Search"
   ]
  },
  {
   "cell_type": "code",
   "execution_count": null,
   "metadata": {
    "id": "m6KAcYgoHXja"
   },
   "outputs": [],
   "source": [
    "from sklearn.model_selection import GridSearchCV\n",
    "\n",
    "clf = DecisionTreeClassifier(random_state=42)\n",
    "\n",
    "# Hyperparameter Optimization\n",
    "parameters = {'max_features': ['log2', 'sqrt', None, 0.8],\n",
    "              'criterion': ['entropy', 'gini'],\n",
    "              'max_depth': [2, 3, 5, 10, 50, None],\n",
    "              'min_samples_split': [2, 3, 50, 100],\n",
    "              'min_samples_leaf': [1, 5, 8, 10]\n",
    "             }\n",
    "# Run the grid search\n",
    "grid_obj = GridSearchCV(clf, parameters, cv=5)\n",
    "grid_obj = grid_obj.fit(X_year_train, y_year_train)\n",
    "# Set the clf to the best combination of parameters\n",
    "print(grid_obj.best_estimator_)\n",
    "clf = grid_obj.best_estimator_\n",
    "# Train the model using the training sets\n",
    "clf.fit(X_year_test, y_year_train)\n",
    "\n",
    "# Prediction on test set\n",
    "y_pred_dt = clf.predict(X_year_test)\n",
    "\n",
    "# Calculating the accuracy\n",
    "acc_dt_grid = round( metrics.accuracy_score(y_year_test, y_pred_dt) * 100, 2 )\n",
    "print( 'Accuracy of Decision Tree model : ', acc_dt_grid )"
   ]
  },
  {
   "cell_type": "markdown",
   "metadata": {
    "id": "AoR216ywHzAa"
   },
   "source": [
    "#### Random Search"
   ]
  },
  {
   "cell_type": "code",
   "execution_count": 19,
   "metadata": {
    "colab": {
     "base_uri": "https://localhost:8080/"
    },
    "id": "t6mOygzSHdz1",
    "outputId": "df03644b-f41d-4411-f612-d06337f2c5bf"
   },
   "outputs": [
    {
     "name": "stdout",
     "output_type": "stream",
     "text": [
      "Fitting 3 folds for each of 20 candidates, totalling 60 fits\n"
     ]
    },
    {
     "name": "stderr",
     "output_type": "stream",
     "text": [
      "[Parallel(n_jobs=-1)]: Using backend LokyBackend with 4 concurrent workers.\n",
      "[Parallel(n_jobs=-1)]: Done  42 tasks      | elapsed: 10.6min\n",
      "[Parallel(n_jobs=-1)]: Done  60 out of  60 | elapsed: 16.1min finished\n"
     ]
    },
    {
     "data": {
      "text/plain": [
       "RandomizedSearchCV(cv=3, error_score=nan,\n",
       "                   estimator=DecisionTreeClassifier(ccp_alpha=0.0,\n",
       "                                                    class_weight=None,\n",
       "                                                    criterion='gini',\n",
       "                                                    max_depth=None,\n",
       "                                                    max_features=None,\n",
       "                                                    max_leaf_nodes=None,\n",
       "                                                    min_impurity_decrease=0.0,\n",
       "                                                    min_impurity_split=None,\n",
       "                                                    min_samples_leaf=1,\n",
       "                                                    min_samples_split=2,\n",
       "                                                    min_weight_fraction_leaf=0.0,\n",
       "                                                    presort='deprecated',\n",
       "                                                    random_state=42,\n",
       "                                                    splitter='best'),\n",
       "                   iid='deprecated', n_iter=20, n_jobs=-1,\n",
       "                   param_distributions={'criterion': ['entropy', 'gini'],\n",
       "                                        'max_depth': [10, 20, None],\n",
       "                                        'max_features': ['log2', 'sqrt', None,\n",
       "                                                         0.8],\n",
       "                                        'min_samples_leaf': [1, 5, 8, 10],\n",
       "                                        'min_samples_split': [2, 3, 50, 100]},\n",
       "                   pre_dispatch='2*n_jobs', random_state=42, refit=True,\n",
       "                   return_train_score=False, scoring='f1_weighted', verbose=1)"
      ]
     },
     "execution_count": 19,
     "metadata": {},
     "output_type": "execute_result"
    }
   ],
   "source": [
    "from sklearn.tree import DecisionTreeClassifier\n",
    "from sklearn.model_selection import RandomizedSearchCV\n",
    "from sklearn.model_selection import cross_val_score\n",
    "\n",
    "random_search = {'max_features': ['log2', 'sqrt', None, 0.8],\n",
    "                 'criterion': ['entropy', 'gini'],\n",
    "                 'max_depth': [10, 20, None],\n",
    "                 'min_samples_split': [2, 3, 50, 100],\n",
    "                 'min_samples_leaf': [1, 5, 8, 10]}\n",
    "\n",
    "clf = DecisionTreeClassifier(random_state=42)\n",
    "\n",
    "\n",
    "random_search_obj = RandomizedSearchCV(estimator=clf, \n",
    "                           param_distributions=random_search, \n",
    "                           n_iter=20, # total number of models it will try out by random selection\n",
    "                           scoring='f1_weighted',\n",
    "                           cv=3, verbose=1, random_state=42, n_jobs=-1) # n_jobs=-1 tells to use all the CPU's\n",
    "\n",
    "random_search_obj.fit(X_year_train, y_year_train)"
   ]
  },
  {
   "cell_type": "code",
   "execution_count": 20,
   "metadata": {
    "id": "z1ZoWekUHg_O"
   },
   "outputs": [
    {
     "name": "stdout",
     "output_type": "stream",
     "text": [
      "DecisionTreeClassifier(ccp_alpha=0.0, class_weight=None, criterion='gini',\n",
      "                       max_depth=None, max_features=0.8, max_leaf_nodes=None,\n",
      "                       min_impurity_decrease=0.0, min_impurity_split=None,\n",
      "                       min_samples_leaf=5, min_samples_split=2,\n",
      "                       min_weight_fraction_leaf=0.0, presort='deprecated',\n",
      "                       random_state=42, splitter='best')\n"
     ]
    }
   ],
   "source": [
    "print(random_search_obj.best_estimator_)"
   ]
  },
  {
   "cell_type": "markdown",
   "metadata": {
    "id": "ovzlterXIPZZ"
   },
   "source": [
    "Run best Model"
   ]
  },
  {
   "cell_type": "code",
   "execution_count": 21,
   "metadata": {
    "id": "gxXZYVrvHpw8"
   },
   "outputs": [
    {
     "data": {
      "text/plain": [
       "DecisionTreeClassifier(ccp_alpha=0.0, class_weight=None, criterion='gini',\n",
       "                       max_depth=None, max_features=0.8, max_leaf_nodes=None,\n",
       "                       min_impurity_decrease=0.0, min_impurity_split=None,\n",
       "                       min_samples_leaf=5, min_samples_split=2,\n",
       "                       min_weight_fraction_leaf=0.0, presort='deprecated',\n",
       "                       random_state=42, splitter='best')"
      ]
     },
     "execution_count": 21,
     "metadata": {},
     "output_type": "execute_result"
    }
   ],
   "source": [
    "from sklearn.tree import DecisionTreeClassifier\n",
    "# Set the clf to the best combination of parameters\n",
    "clf = DecisionTreeClassifier(max_features=0.8, min_samples_leaf=5, random_state=42)\n",
    "# Train the model using the training sets\n",
    "clf.fit(X_year_train, y_year_train)"
   ]
  },
  {
   "cell_type": "code",
   "execution_count": null,
   "metadata": {
    "id": "6x7MjcecIkvu"
   },
   "outputs": [],
   "source": [
    "import joblib\n",
    "\n",
    "# save the model to disk\n",
    "filename = 'random_tuned_model.sav'\n",
    "joblib.dump(clf, filename)"
   ]
  },
  {
   "cell_type": "code",
   "execution_count": null,
   "metadata": {
    "id": "eFwas09-HS9S"
   },
   "outputs": [],
   "source": [
    "# load model\n",
    "'''\n",
    "import joblib\n",
    "filename = 'random_tuned_model.sav'\n",
    "clf = joblib.load(filename)\n",
    "result = clf.score(X_year_test, y_year_test)\n",
    "print(result)\n",
    "'''"
   ]
  },
  {
   "cell_type": "code",
   "execution_count": 22,
   "metadata": {
    "id": "Yf-gy4vdImq1"
   },
   "outputs": [
    {
     "data": {
      "text/plain": [
       "array([0.88393997, 0.88278091, 0.88061711, 0.88563559, 0.88210904])"
      ]
     },
     "execution_count": 22,
     "metadata": {},
     "output_type": "execute_result"
    }
   ],
   "source": [
    "from sklearn.model_selection import cross_val_score\n",
    "# cross val scores\n",
    "scores = cross_val_score(clf, X_year_train, y_year_train, cv=5, scoring='f1_weighted')\n",
    "scores"
   ]
  },
  {
   "cell_type": "markdown",
   "metadata": {
    "id": "o1vrBZm5IcUA"
   },
   "source": [
    "## Prediction"
   ]
  },
  {
   "cell_type": "code",
   "execution_count": 23,
   "metadata": {
    "id": "s1jHD_9IInNS"
   },
   "outputs": [
    {
     "name": "stdout",
     "output_type": "stream",
     "text": [
      "Accuracy of Decision Tree model :  82.89\n",
      "F1 of Decision Tree model :  80.39\n"
     ]
    }
   ],
   "source": [
    "# Prediction on test set\n",
    "y_pred_dt = clf.predict(X_year_test)\n",
    "\n",
    "# Calculating the accuracy and F1\n",
    "from sklearn import metrics\n",
    "acc_dt_ran = round( metrics.accuracy_score(y_year_test, y_pred_dt) * 100, 2 )\n",
    "f1_dt = round(metrics.f1_score(y_year_test, y_pred_dt, average='weighted') * 100, 2)\n",
    "print('Accuracy of Decision Tree model : ', acc_dt_ran)\n",
    "print('F1 of Decision Tree model : ', f1_dt)"
   ]
  },
  {
   "cell_type": "markdown",
   "metadata": {
    "id": "pNXO1rCm9WlA"
   },
   "source": [
    "# Explore Model "
   ]
  },
  {
   "cell_type": "markdown",
   "metadata": {
    "id": "-_zxVevUIzhH"
   },
   "source": [
    "## Confusion Matrix"
   ]
  },
  {
   "cell_type": "code",
   "execution_count": 24,
   "metadata": {
    "id": "yjEnTOSX9pQd"
   },
   "outputs": [
    {
     "name": "stdout",
     "output_type": "stream",
     "text": [
      "              precision    recall  f1-score   support\n",
      "\n",
      "        None       0.89      0.95      0.92     11665\n",
      "        Gold       0.39      0.32      0.35       665\n",
      "      Silver       0.11      0.05      0.07       655\n",
      "      Bronze       0.04      0.02      0.02       703\n",
      "\n",
      "    accuracy                           0.83     13688\n",
      "   macro avg       0.36      0.33      0.34     13688\n",
      "weighted avg       0.78      0.83      0.80     13688\n",
      "\n"
     ]
    }
   ],
   "source": [
    "from sklearn.metrics import classification_report\n",
    "\n",
    "#print(classification_report(y_true, y_pred, target_names=target_names))\n",
    "target_names = ['None', 'Gold', 'Silver', 'Bronze']\n",
    "print(classification_report(y_year_test, y_pred_dt, target_names=target_names))"
   ]
  },
  {
   "cell_type": "code",
   "execution_count": 25,
   "metadata": {
    "id": "aYBXCMLV9qFa"
   },
   "outputs": [
    {
     "data": {
      "text/plain": [
       "array([[11090,   167,   182,   226],\n",
       "       [  350,   210,    44,    61],\n",
       "       [  491,    76,    33,    55],\n",
       "       [  566,    82,    42,    13]], dtype=int64)"
      ]
     },
     "execution_count": 25,
     "metadata": {},
     "output_type": "execute_result"
    }
   ],
   "source": [
    "from sklearn.metrics import confusion_matrix\n",
    "\n",
    "cm = confusion_matrix(y_year_test, y_pred_dt)\n",
    "cm"
   ]
  },
  {
   "cell_type": "code",
   "execution_count": 33,
   "metadata": {
    "id": "Fndr-ZDX9tHx"
   },
   "outputs": [
    {
     "data": {
      "image/png": "[encoded data removed]",
      "text/plain": [
       "<Figure size 640x480 with 2 Axes>"
      ]
     },
     "metadata": {},
     "output_type": "display_data"
    }
   ],
   "source": [
    "import seaborn as sns\n",
    "import matplotlib.pyplot as plt     \n",
    "\n",
    "fig, ax= plt.subplots()\n",
    "sns.heatmap(cm, annot=True, fmt='g', ax=ax);  #annot=True to annotate cells, ftm='g' to disable scientific notation\n",
    "\n",
    "# labels, title and ticks\n",
    "ax.set_xlabel('Predicted labels');ax.set_ylabel('True labels'); \n",
    "ax.set_title('Confusion Matrix'); \n",
    "ax.xaxis.set_ticklabels(['None', 'Gold', 'Silver', 'Bronze']); ax.yaxis.set_ticklabels(['None', 'Gold', 'Silver', 'Bronze'])\n",
    "plt.yticks(rotation=0)\n",
    "plt.savefig('confusion_matrix.png')\n",
    "plt.show();"
   ]
  },
  {
   "cell_type": "markdown",
   "metadata": {
    "id": "qevbDuxjI50c"
   },
   "source": [
    "## Number of Medals Predicted vs. Actual Data"
   ]
  },
  {
   "cell_type": "code",
   "execution_count": 34,
   "metadata": {
    "id": "aC_kuPNf9vTf"
   },
   "outputs": [
    {
     "data": {
      "text/html": [
       "<div>\n",
       "<style scoped>\n",
       "    .dataframe tbody tr th:only-of-type {\n",
       "        vertical-align: middle;\n",
       "    }\n",
       "\n",
       "    .dataframe tbody tr th {\n",
       "        vertical-align: top;\n",
       "    }\n",
       "\n",
       "    .dataframe thead th {\n",
       "        text-align: right;\n",
       "    }\n",
       "</style>\n",
       "<table border=\"1\" class=\"dataframe\">\n",
       "  <thead>\n",
       "    <tr style=\"text-align: right;\">\n",
       "      <th></th>\n",
       "      <th>Sex</th>\n",
       "      <th>NOC</th>\n",
       "      <th>Games</th>\n",
       "      <th>Year</th>\n",
       "      <th>Season</th>\n",
       "      <th>Sport</th>\n",
       "      <th>Event</th>\n",
       "      <th>Medal_numeric</th>\n",
       "      <th>Age</th>\n",
       "      <th>Height</th>\n",
       "      <th>Weight</th>\n",
       "      <th>predicted_medal</th>\n",
       "    </tr>\n",
       "  </thead>\n",
       "  <tbody>\n",
       "    <tr>\n",
       "      <th>80</th>\n",
       "      <td>F</td>\n",
       "      <td>ROU</td>\n",
       "      <td>2016 Summer</td>\n",
       "      <td>2016</td>\n",
       "      <td>Summer</td>\n",
       "      <td>Weightlifting</td>\n",
       "      <td>Weightlifting Women's Super-Heavyweight</td>\n",
       "      <td>0</td>\n",
       "      <td>22.0</td>\n",
       "      <td>170.0</td>\n",
       "      <td>125.0</td>\n",
       "      <td>0</td>\n",
       "    </tr>\n",
       "    <tr>\n",
       "      <th>139</th>\n",
       "      <td>M</td>\n",
       "      <td>ESP</td>\n",
       "      <td>2016 Summer</td>\n",
       "      <td>2016</td>\n",
       "      <td>Summer</td>\n",
       "      <td>Gymnastics</td>\n",
       "      <td>Gymnastics Men's Individual All-Around</td>\n",
       "      <td>0</td>\n",
       "      <td>23.0</td>\n",
       "      <td>167.0</td>\n",
       "      <td>64.0</td>\n",
       "      <td>0</td>\n",
       "    </tr>\n",
       "    <tr>\n",
       "      <th>140</th>\n",
       "      <td>M</td>\n",
       "      <td>ESP</td>\n",
       "      <td>2016 Summer</td>\n",
       "      <td>2016</td>\n",
       "      <td>Summer</td>\n",
       "      <td>Gymnastics</td>\n",
       "      <td>Gymnastics Men's Floor Exercise</td>\n",
       "      <td>0</td>\n",
       "      <td>23.0</td>\n",
       "      <td>167.0</td>\n",
       "      <td>64.0</td>\n",
       "      <td>0</td>\n",
       "    </tr>\n",
       "    <tr>\n",
       "      <th>141</th>\n",
       "      <td>M</td>\n",
       "      <td>ESP</td>\n",
       "      <td>2016 Summer</td>\n",
       "      <td>2016</td>\n",
       "      <td>Summer</td>\n",
       "      <td>Gymnastics</td>\n",
       "      <td>Gymnastics Men's Parallel Bars</td>\n",
       "      <td>0</td>\n",
       "      <td>23.0</td>\n",
       "      <td>167.0</td>\n",
       "      <td>64.0</td>\n",
       "      <td>0</td>\n",
       "    </tr>\n",
       "    <tr>\n",
       "      <th>142</th>\n",
       "      <td>M</td>\n",
       "      <td>ESP</td>\n",
       "      <td>2016 Summer</td>\n",
       "      <td>2016</td>\n",
       "      <td>Summer</td>\n",
       "      <td>Gymnastics</td>\n",
       "      <td>Gymnastics Men's Horizontal Bar</td>\n",
       "      <td>0</td>\n",
       "      <td>23.0</td>\n",
       "      <td>167.0</td>\n",
       "      <td>64.0</td>\n",
       "      <td>0</td>\n",
       "    </tr>\n",
       "  </tbody>\n",
       "</table>\n",
       "</div>"
      ],
      "text/plain": [
       "    Sex  NOC        Games  Year  Season          Sport  \\\n",
       "80    F  ROU  2016 Summer  2016  Summer  Weightlifting   \n",
       "139   M  ESP  2016 Summer  2016  Summer     Gymnastics   \n",
       "140   M  ESP  2016 Summer  2016  Summer     Gymnastics   \n",
       "141   M  ESP  2016 Summer  2016  Summer     Gymnastics   \n",
       "142   M  ESP  2016 Summer  2016  Summer     Gymnastics   \n",
       "\n",
       "                                       Event  Medal_numeric   Age  Height  \\\n",
       "80   Weightlifting Women's Super-Heavyweight              0  22.0   170.0   \n",
       "139   Gymnastics Men's Individual All-Around              0  23.0   167.0   \n",
       "140          Gymnastics Men's Floor Exercise              0  23.0   167.0   \n",
       "141           Gymnastics Men's Parallel Bars              0  23.0   167.0   \n",
       "142          Gymnastics Men's Horizontal Bar              0  23.0   167.0   \n",
       "\n",
       "     Weight  predicted_medal  \n",
       "80    125.0                0  \n",
       "139    64.0                0  \n",
       "140    64.0                0  \n",
       "141    64.0                0  \n",
       "142    64.0                0  "
      ]
     },
     "execution_count": 34,
     "metadata": {},
     "output_type": "execute_result"
    }
   ],
   "source": [
    "df_test = df_inputed[df_inputed.Year == 2016]\n",
    "df_test['predicted_medal'] = y_pred_dt\n",
    "df_test.head()"
   ]
  },
  {
   "cell_type": "code",
   "execution_count": 35,
   "metadata": {
    "id": "v1nuIzBh9yqk"
   },
   "outputs": [
    {
     "data": {
      "text/html": [
       "<div>\n",
       "<style scoped>\n",
       "    .dataframe tbody tr th:only-of-type {\n",
       "        vertical-align: middle;\n",
       "    }\n",
       "\n",
       "    .dataframe tbody tr th {\n",
       "        vertical-align: top;\n",
       "    }\n",
       "\n",
       "    .dataframe thead th {\n",
       "        text-align: right;\n",
       "    }\n",
       "</style>\n",
       "<table border=\"1\" class=\"dataframe\">\n",
       "  <thead>\n",
       "    <tr style=\"text-align: right;\">\n",
       "      <th></th>\n",
       "      <th>Medal_name</th>\n",
       "      <th>Medal_numeric</th>\n",
       "      <th>Data</th>\n",
       "      <th>Predicted</th>\n",
       "    </tr>\n",
       "  </thead>\n",
       "  <tbody>\n",
       "    <tr>\n",
       "      <th>0</th>\n",
       "      <td>None</td>\n",
       "      <td>0</td>\n",
       "      <td>11665</td>\n",
       "      <td>12497</td>\n",
       "    </tr>\n",
       "    <tr>\n",
       "      <th>1</th>\n",
       "      <td>Gold</td>\n",
       "      <td>1</td>\n",
       "      <td>665</td>\n",
       "      <td>535</td>\n",
       "    </tr>\n",
       "    <tr>\n",
       "      <th>2</th>\n",
       "      <td>Silver</td>\n",
       "      <td>2</td>\n",
       "      <td>655</td>\n",
       "      <td>301</td>\n",
       "    </tr>\n",
       "    <tr>\n",
       "      <th>3</th>\n",
       "      <td>Bronze</td>\n",
       "      <td>3</td>\n",
       "      <td>703</td>\n",
       "      <td>355</td>\n",
       "    </tr>\n",
       "  </tbody>\n",
       "</table>\n",
       "</div>"
      ],
      "text/plain": [
       "  Medal_name  Medal_numeric   Data  Predicted\n",
       "0       None              0  11665      12497\n",
       "1       Gold              1    665        535\n",
       "2     Silver              2    655        301\n",
       "3     Bronze              3    703        355"
      ]
     },
     "execution_count": 35,
     "metadata": {},
     "output_type": "execute_result"
    }
   ],
   "source": [
    "medals = list(df_test.groupby(df_test.Medal_numeric).count().predicted_medal)\n",
    "predicted_medals = list(df_test.groupby(df_test.predicted_medal).count().Medal_numeric)\n",
    "\n",
    "df_medals = pd.DataFrame({'Medal_name': ['None', 'Gold', 'Silver', 'Bronze'],\n",
    "                          'Medal_numeric': [0, 1, 2, 3],\n",
    "                          'Data': medals,\n",
    "                          'Predicted': predicted_medals})\n",
    "df_medals"
   ]
  },
  {
   "cell_type": "code",
   "execution_count": 36,
   "metadata": {
    "id": "KCJz9Z3x91BH"
   },
   "outputs": [
    {
     "data": {
      "image/png": "[encoded data removed]",
      "text/plain": [
       "<Figure size 1000x500 with 1 Axes>"
      ]
     },
     "metadata": {},
     "output_type": "display_data"
    }
   ],
   "source": [
    "# Figure size\n",
    "plt.figure(figsize=(10,5))\n",
    "\n",
    "# Width of a bar \n",
    "width = 0.3       \n",
    "\n",
    "# Plotting\n",
    "plt.bar(df_medals.Medal_numeric, df_medals.Data , width, label='Actual Data')\n",
    "plt.bar(df_medals.Medal_numeric + width, df_medals.Predicted, width, label='Predicted')\n",
    "\n",
    "plt.xlabel('Medal')\n",
    "# plt.ylabel('Here goes y-axis label')\n",
    "plt.title('Number of Medals')\n",
    "\n",
    "# First argument - A list of positions at which ticks should be placed\n",
    "# Second argument -  A list of labels to place at the given locations\n",
    "plt.xticks(df_medals.Medal_numeric + width / 2, (df_medals.Medal_name))\n",
    "\n",
    "# Finding the best position for legends and putting it\n",
    "plt.legend(loc='best')\n",
    "plt.savefig('number_of_medals.png')\n",
    "plt.show();"
   ]
  },
  {
   "cell_type": "markdown",
   "metadata": {
    "id": "So08etmtKIuL"
   },
   "source": [
    "## Number of Medals per Country"
   ]
  },
  {
   "cell_type": "code",
   "execution_count": 43,
   "metadata": {},
   "outputs": [
    {
     "name": "stdout",
     "output_type": "stream",
     "text": [
      "<class 'pandas.core.frame.DataFrame'>\n",
      "RangeIndex: 271116 entries, 0 to 271115\n",
      "Data columns (total 15 columns):\n",
      " #   Column  Non-Null Count   Dtype  \n",
      "---  ------  --------------   -----  \n",
      " 0   ID      271116 non-null  int64  \n",
      " 1   Name    271116 non-null  object \n",
      " 2   Sex     271116 non-null  object \n",
      " 3   Team    271116 non-null  object \n",
      " 4   NOC     271116 non-null  object \n",
      " 5   Games   271116 non-null  object \n",
      " 6   Year    271116 non-null  int64  \n",
      " 7   Season  271116 non-null  object \n",
      " 8   City    271116 non-null  object \n",
      " 9   Sport   271116 non-null  object \n",
      " 10  Event   271116 non-null  object \n",
      " 11  Medal   39783 non-null   object \n",
      " 12  Age     271116 non-null  float64\n",
      " 13  Height  271116 non-null  float64\n",
      " 14  Weight  271116 non-null  float64\n",
      "dtypes: float64(3), int64(2), object(10)\n",
      "memory usage: 31.0+ MB\n"
     ]
    }
   ],
   "source": [
    "df = pd.read_csv('../data/athlete_events.csv')\n",
    "df_numeric = pd.read_csv('../data/inputed_numeric_data.csv', index_col=0)\n",
    "\n",
    "df = pd.concat([df.drop(columns=['Age', 'Height', 'Weight']), df_numeric], axis = 1)\n",
    "df.info()"
   ]
  },
  {
   "cell_type": "code",
   "execution_count": 44,
   "metadata": {
    "id": "drK4FjwR-Ln1"
   },
   "outputs": [
    {
     "data": {
      "text/html": [
       "<div>\n",
       "<style scoped>\n",
       "    .dataframe tbody tr th:only-of-type {\n",
       "        vertical-align: middle;\n",
       "    }\n",
       "\n",
       "    .dataframe tbody tr th {\n",
       "        vertical-align: top;\n",
       "    }\n",
       "\n",
       "    .dataframe thead th {\n",
       "        text-align: right;\n",
       "    }\n",
       "</style>\n",
       "<table border=\"1\" class=\"dataframe\">\n",
       "  <thead>\n",
       "    <tr style=\"text-align: right;\">\n",
       "      <th></th>\n",
       "      <th>ID</th>\n",
       "      <th>Name</th>\n",
       "      <th>Sex</th>\n",
       "      <th>Team</th>\n",
       "      <th>NOC</th>\n",
       "      <th>Games</th>\n",
       "      <th>Year</th>\n",
       "      <th>Season</th>\n",
       "      <th>City</th>\n",
       "      <th>Sport</th>\n",
       "      <th>Event</th>\n",
       "      <th>Medal</th>\n",
       "      <th>Age</th>\n",
       "      <th>Height</th>\n",
       "      <th>Weight</th>\n",
       "    </tr>\n",
       "  </thead>\n",
       "  <tbody>\n",
       "    <tr>\n",
       "      <th>80</th>\n",
       "      <td>22</td>\n",
       "      <td>Andreea Aanei</td>\n",
       "      <td>F</td>\n",
       "      <td>Romania</td>\n",
       "      <td>ROU</td>\n",
       "      <td>2016 Summer</td>\n",
       "      <td>2016</td>\n",
       "      <td>Summer</td>\n",
       "      <td>Rio de Janeiro</td>\n",
       "      <td>Weightlifting</td>\n",
       "      <td>Weightlifting Women's Super-Heavyweight</td>\n",
       "      <td>NaN</td>\n",
       "      <td>22.0</td>\n",
       "      <td>170.0</td>\n",
       "      <td>125.0</td>\n",
       "    </tr>\n",
       "    <tr>\n",
       "      <th>139</th>\n",
       "      <td>51</td>\n",
       "      <td>Nstor Abad Sanjun</td>\n",
       "      <td>M</td>\n",
       "      <td>Spain</td>\n",
       "      <td>ESP</td>\n",
       "      <td>2016 Summer</td>\n",
       "      <td>2016</td>\n",
       "      <td>Summer</td>\n",
       "      <td>Rio de Janeiro</td>\n",
       "      <td>Gymnastics</td>\n",
       "      <td>Gymnastics Men's Individual All-Around</td>\n",
       "      <td>NaN</td>\n",
       "      <td>23.0</td>\n",
       "      <td>167.0</td>\n",
       "      <td>64.0</td>\n",
       "    </tr>\n",
       "    <tr>\n",
       "      <th>140</th>\n",
       "      <td>51</td>\n",
       "      <td>Nstor Abad Sanjun</td>\n",
       "      <td>M</td>\n",
       "      <td>Spain</td>\n",
       "      <td>ESP</td>\n",
       "      <td>2016 Summer</td>\n",
       "      <td>2016</td>\n",
       "      <td>Summer</td>\n",
       "      <td>Rio de Janeiro</td>\n",
       "      <td>Gymnastics</td>\n",
       "      <td>Gymnastics Men's Floor Exercise</td>\n",
       "      <td>NaN</td>\n",
       "      <td>23.0</td>\n",
       "      <td>167.0</td>\n",
       "      <td>64.0</td>\n",
       "    </tr>\n",
       "    <tr>\n",
       "      <th>141</th>\n",
       "      <td>51</td>\n",
       "      <td>Nstor Abad Sanjun</td>\n",
       "      <td>M</td>\n",
       "      <td>Spain</td>\n",
       "      <td>ESP</td>\n",
       "      <td>2016 Summer</td>\n",
       "      <td>2016</td>\n",
       "      <td>Summer</td>\n",
       "      <td>Rio de Janeiro</td>\n",
       "      <td>Gymnastics</td>\n",
       "      <td>Gymnastics Men's Parallel Bars</td>\n",
       "      <td>NaN</td>\n",
       "      <td>23.0</td>\n",
       "      <td>167.0</td>\n",
       "      <td>64.0</td>\n",
       "    </tr>\n",
       "    <tr>\n",
       "      <th>142</th>\n",
       "      <td>51</td>\n",
       "      <td>Nstor Abad Sanjun</td>\n",
       "      <td>M</td>\n",
       "      <td>Spain</td>\n",
       "      <td>ESP</td>\n",
       "      <td>2016 Summer</td>\n",
       "      <td>2016</td>\n",
       "      <td>Summer</td>\n",
       "      <td>Rio de Janeiro</td>\n",
       "      <td>Gymnastics</td>\n",
       "      <td>Gymnastics Men's Horizontal Bar</td>\n",
       "      <td>NaN</td>\n",
       "      <td>23.0</td>\n",
       "      <td>167.0</td>\n",
       "      <td>64.0</td>\n",
       "    </tr>\n",
       "  </tbody>\n",
       "</table>\n",
       "</div>"
      ],
      "text/plain": [
       "     ID               Name Sex     Team  NOC        Games  Year  Season  \\\n",
       "80   22      Andreea Aanei   F  Romania  ROU  2016 Summer  2016  Summer   \n",
       "139  51  Nstor Abad Sanjun   M    Spain  ESP  2016 Summer  2016  Summer   \n",
       "140  51  Nstor Abad Sanjun   M    Spain  ESP  2016 Summer  2016  Summer   \n",
       "141  51  Nstor Abad Sanjun   M    Spain  ESP  2016 Summer  2016  Summer   \n",
       "142  51  Nstor Abad Sanjun   M    Spain  ESP  2016 Summer  2016  Summer   \n",
       "\n",
       "               City          Sport                                    Event  \\\n",
       "80   Rio de Janeiro  Weightlifting  Weightlifting Women's Super-Heavyweight   \n",
       "139  Rio de Janeiro     Gymnastics   Gymnastics Men's Individual All-Around   \n",
       "140  Rio de Janeiro     Gymnastics          Gymnastics Men's Floor Exercise   \n",
       "141  Rio de Janeiro     Gymnastics           Gymnastics Men's Parallel Bars   \n",
       "142  Rio de Janeiro     Gymnastics          Gymnastics Men's Horizontal Bar   \n",
       "\n",
       "    Medal   Age  Height  Weight  \n",
       "80    NaN  22.0   170.0   125.0  \n",
       "139   NaN  23.0   167.0    64.0  \n",
       "140   NaN  23.0   167.0    64.0  \n",
       "141   NaN  23.0   167.0    64.0  \n",
       "142   NaN  23.0   167.0    64.0  "
      ]
     },
     "execution_count": 44,
     "metadata": {},
     "output_type": "execute_result"
    }
   ],
   "source": [
    "df_16 = df[df.Year == 2016]\n",
    "df_16.head()"
   ]
  },
  {
   "cell_type": "markdown",
   "metadata": {
    "id": "Ib9VrJT5KM49"
   },
   "source": [
    "### Actual Data 2016"
   ]
  },
  {
   "cell_type": "code",
   "execution_count": 46,
   "metadata": {
    "id": "rP8fNLsb-PTB"
   },
   "outputs": [
    {
     "data": {
      "image/png": "[encoded data removed]",
      "text/plain": [
       "<Figure size 1500x600 with 1 Axes>"
      ]
     },
     "metadata": {},
     "output_type": "display_data"
    }
   ],
   "source": [
    "df_summer_gold = df_16[(df_16['Season'] == 'Summer') & (df_16['Medal'] == 'Gold')]\n",
    "df_summer_gold_count = df_summer_gold.groupby('NOC')['Medal'].count().to_frame().reset_index()\n",
    "df_summer_gold_count = df_summer_gold_count.rename(columns={\"Medal\": 'Gold'})\n",
    "\n",
    "\n",
    "df_summer_silver = df_16[(df_16['Season'] == 'Summer') & (df_16['Medal'] == 'Silver')]\n",
    "df_summer_silver_count = df_summer_silver.groupby('NOC')['Medal'].count().to_frame().reset_index()\n",
    "df_summer_silver_count = df_summer_silver_count.rename(columns={\"Medal\": 'Silver'})\n",
    "\n",
    "df_summer_bronze = df_16[(df_16['Season'] == 'Summer') & (df_16['Medal'] == 'Bronze')]\n",
    "df_summer_bronze_count = df_summer_bronze.groupby('NOC')['Medal'].count().to_frame().reset_index()\n",
    "df_summer_bronze_count = df_summer_bronze_count.rename(columns={\"Medal\": 'Bronze'})\n",
    "\n",
    "df_summer_medals  = pd.merge(df_summer_gold_count,df_summer_silver_count, left_on='NOC', right_on='NOC')\n",
    "df_summer_medals = pd.merge(df_summer_medals, df_summer_bronze_count, left_on='NOC', right_on='NOC')\n",
    "\n",
    "df_summer_medals['Total'] = df_summer_medals['Gold'] + df_summer_medals['Silver'] + df_summer_medals['Bronze']\n",
    "df_summer_medals = df_summer_medals.sort_values('Total',ascending=False).reset_index()\n",
    "\n",
    "fig = plt.figure(figsize=(15,6))\n",
    "ax = plt.gca()\n",
    "# create data\n",
    "x = df_summer_medals['NOC'][:30]\n",
    "y1 = df_summer_medals['Gold'][:30]\n",
    "y2 = df_summer_medals['Silver'][:30]\n",
    "y3 = df_summer_medals['Bronze'][:30]\n",
    "\n",
    "# plot bars in stack manner\n",
    "plt.bar(x, y1, bottom=y3+y2, color='y', label = 'Gold')\n",
    "plt.bar(x, y2, bottom=y3, color='gray', label = 'Silver')\n",
    "plt.bar(x, y3, color='brown', label = 'Bronze')\n",
    "ax.legend()\n",
    "plt.xticks(rotation=90)\n",
    "plt.ylabel('Number of Medals')\n",
    "plt.title('Total Number of Medals at the Summer Olypics 2016')\n",
    "plt.savefig('medals_summer_2016.png')\n",
    "plt.show()"
   ]
  },
  {
   "cell_type": "markdown",
   "metadata": {
    "id": "NNdlGdIqK3id"
   },
   "source": [
    "### Predicted Data 2016"
   ]
  },
  {
   "cell_type": "code",
   "execution_count": 47,
   "metadata": {
    "id": "6jRUBT1n-UWm"
   },
   "outputs": [
    {
     "data": {
      "text/html": [
       "<div>\n",
       "<style scoped>\n",
       "    .dataframe tbody tr th:only-of-type {\n",
       "        vertical-align: middle;\n",
       "    }\n",
       "\n",
       "    .dataframe tbody tr th {\n",
       "        vertical-align: top;\n",
       "    }\n",
       "\n",
       "    .dataframe thead th {\n",
       "        text-align: right;\n",
       "    }\n",
       "</style>\n",
       "<table border=\"1\" class=\"dataframe\">\n",
       "  <thead>\n",
       "    <tr style=\"text-align: right;\">\n",
       "      <th></th>\n",
       "      <th>Sex</th>\n",
       "      <th>NOC</th>\n",
       "      <th>Games</th>\n",
       "      <th>Year</th>\n",
       "      <th>Season</th>\n",
       "      <th>Sport</th>\n",
       "      <th>Event</th>\n",
       "      <th>Medal_numeric</th>\n",
       "      <th>Age</th>\n",
       "      <th>Height</th>\n",
       "      <th>Weight</th>\n",
       "      <th>predicted_medal</th>\n",
       "      <th>Medal</th>\n",
       "    </tr>\n",
       "  </thead>\n",
       "  <tbody>\n",
       "    <tr>\n",
       "      <th>80</th>\n",
       "      <td>F</td>\n",
       "      <td>ROU</td>\n",
       "      <td>2016 Summer</td>\n",
       "      <td>2016</td>\n",
       "      <td>Summer</td>\n",
       "      <td>Weightlifting</td>\n",
       "      <td>Weightlifting Women's Super-Heavyweight</td>\n",
       "      <td>0</td>\n",
       "      <td>22.0</td>\n",
       "      <td>170.0</td>\n",
       "      <td>125.0</td>\n",
       "      <td>0</td>\n",
       "      <td>None</td>\n",
       "    </tr>\n",
       "    <tr>\n",
       "      <th>139</th>\n",
       "      <td>M</td>\n",
       "      <td>ESP</td>\n",
       "      <td>2016 Summer</td>\n",
       "      <td>2016</td>\n",
       "      <td>Summer</td>\n",
       "      <td>Gymnastics</td>\n",
       "      <td>Gymnastics Men's Individual All-Around</td>\n",
       "      <td>0</td>\n",
       "      <td>23.0</td>\n",
       "      <td>167.0</td>\n",
       "      <td>64.0</td>\n",
       "      <td>0</td>\n",
       "      <td>None</td>\n",
       "    </tr>\n",
       "    <tr>\n",
       "      <th>140</th>\n",
       "      <td>M</td>\n",
       "      <td>ESP</td>\n",
       "      <td>2016 Summer</td>\n",
       "      <td>2016</td>\n",
       "      <td>Summer</td>\n",
       "      <td>Gymnastics</td>\n",
       "      <td>Gymnastics Men's Floor Exercise</td>\n",
       "      <td>0</td>\n",
       "      <td>23.0</td>\n",
       "      <td>167.0</td>\n",
       "      <td>64.0</td>\n",
       "      <td>0</td>\n",
       "      <td>None</td>\n",
       "    </tr>\n",
       "    <tr>\n",
       "      <th>141</th>\n",
       "      <td>M</td>\n",
       "      <td>ESP</td>\n",
       "      <td>2016 Summer</td>\n",
       "      <td>2016</td>\n",
       "      <td>Summer</td>\n",
       "      <td>Gymnastics</td>\n",
       "      <td>Gymnastics Men's Parallel Bars</td>\n",
       "      <td>0</td>\n",
       "      <td>23.0</td>\n",
       "      <td>167.0</td>\n",
       "      <td>64.0</td>\n",
       "      <td>0</td>\n",
       "      <td>None</td>\n",
       "    </tr>\n",
       "    <tr>\n",
       "      <th>142</th>\n",
       "      <td>M</td>\n",
       "      <td>ESP</td>\n",
       "      <td>2016 Summer</td>\n",
       "      <td>2016</td>\n",
       "      <td>Summer</td>\n",
       "      <td>Gymnastics</td>\n",
       "      <td>Gymnastics Men's Horizontal Bar</td>\n",
       "      <td>0</td>\n",
       "      <td>23.0</td>\n",
       "      <td>167.0</td>\n",
       "      <td>64.0</td>\n",
       "      <td>0</td>\n",
       "      <td>None</td>\n",
       "    </tr>\n",
       "  </tbody>\n",
       "</table>\n",
       "</div>"
      ],
      "text/plain": [
       "    Sex  NOC        Games  Year  Season          Sport  \\\n",
       "80    F  ROU  2016 Summer  2016  Summer  Weightlifting   \n",
       "139   M  ESP  2016 Summer  2016  Summer     Gymnastics   \n",
       "140   M  ESP  2016 Summer  2016  Summer     Gymnastics   \n",
       "141   M  ESP  2016 Summer  2016  Summer     Gymnastics   \n",
       "142   M  ESP  2016 Summer  2016  Summer     Gymnastics   \n",
       "\n",
       "                                       Event  Medal_numeric   Age  Height  \\\n",
       "80   Weightlifting Women's Super-Heavyweight              0  22.0   170.0   \n",
       "139   Gymnastics Men's Individual All-Around              0  23.0   167.0   \n",
       "140          Gymnastics Men's Floor Exercise              0  23.0   167.0   \n",
       "141           Gymnastics Men's Parallel Bars              0  23.0   167.0   \n",
       "142          Gymnastics Men's Horizontal Bar              0  23.0   167.0   \n",
       "\n",
       "     Weight  predicted_medal Medal  \n",
       "80    125.0                0  None  \n",
       "139    64.0                0  None  \n",
       "140    64.0                0  None  \n",
       "141    64.0                0  None  \n",
       "142    64.0                0  None  "
      ]
     },
     "execution_count": 47,
     "metadata": {},
     "output_type": "execute_result"
    }
   ],
   "source": [
    "# convert medal data back to words\n",
    "conversion = {1: 'Gold', 2: 'Silver', 3: 'Bronze'}\n",
    "\n",
    "df_test['Medal'] = df_test.apply(lambda row: conversion[row['predicted_medal']] if row['predicted_medal'] in conversion else 'None', axis = 1)\n",
    "df_test.head()"
   ]
  },
  {
   "cell_type": "code",
   "execution_count": 48,
   "metadata": {
    "id": "P8xf1ZrB-U9_"
   },
   "outputs": [
    {
     "data": {
      "image/png": "[encoded data removed]",
      "text/plain": [
       "<Figure size 1500x600 with 1 Axes>"
      ]
     },
     "metadata": {},
     "output_type": "display_data"
    }
   ],
   "source": [
    "df_summer_gold = df_test[df_test['Medal'] == 'Gold']\n",
    "df_summer_gold_count = df_summer_gold.groupby('NOC')['Medal'].count().to_frame().reset_index()\n",
    "df_summer_gold_count = df_summer_gold_count.rename(columns={\"Medal\": 'Gold'})\n",
    "\n",
    "\n",
    "df_summer_silver = df_test[df_test['Medal'] == 'Silver']\n",
    "df_summer_silver_count = df_summer_silver.groupby('NOC')['Medal'].count().to_frame().reset_index()\n",
    "df_summer_silver_count = df_summer_silver_count.rename(columns={\"Medal\": 'Silver'})\n",
    "\n",
    "df_summer_bronze = df_test[df_test['Medal'] == 'Bronze']\n",
    "df_summer_bronze_count = df_summer_bronze.groupby('NOC')['Medal'].count().to_frame().reset_index()\n",
    "df_summer_bronze_count = df_summer_bronze_count.rename(columns={\"Medal\": 'Bronze'})\n",
    "\n",
    "df_summer_medals  = pd.merge(df_summer_gold_count,df_summer_silver_count, left_on='NOC', right_on='NOC')\n",
    "df_summer_medals = pd.merge(df_summer_medals, df_summer_bronze_count, left_on='NOC', right_on='NOC')\n",
    "\n",
    "df_summer_medals['Total'] = df_summer_medals['Gold'] + df_summer_medals['Silver'] + df_summer_medals['Bronze']\n",
    "df_summer_medals = df_summer_medals.sort_values('Total',ascending=False).reset_index()\n",
    "\n",
    "fig = plt.figure(figsize=(15,6))\n",
    "ax = plt.gca()\n",
    "# create data\n",
    "x = df_summer_medals['NOC']\n",
    "y1 = df_summer_medals['Gold']\n",
    "y2 = df_summer_medals['Silver']\n",
    "y3 = df_summer_medals['Bronze']\n",
    "\n",
    "# plot bars in stack manner\n",
    "plt.bar(x, y1, bottom=y3+y2, color='y', label = 'Gold')\n",
    "plt.bar(x, y2, bottom=y3, color='gray', label = 'Silver')\n",
    "plt.bar(x, y3, color='brown', label = 'Bronze')\n",
    "ax.legend()\n",
    "plt.xticks(rotation=90)\n",
    "plt.ylabel('Number of Medals')\n",
    "plt.title('Total Number of predicted Medals at the Summer Olypics 2016')\n",
    "plt.savefig('medals_summer_predicted_2016.png')\n",
    "plt.show()"
   ]
  },
  {
   "cell_type": "code",
   "execution_count": null,
   "metadata": {},
   "outputs": [],
   "source": []
  }
 ],
 "metadata": {
  "accelerator": "GPU",
  "colab": {
   "collapsed_sections": [],
   "name": "olympic_data.ipynb",
   "provenance": []
  },
  "kernelspec": {
   "display_name": "Python 3",
   "language": "python",
   "name": "python3"
  },
  "language_info": {
   "codemirror_mode": {
    "name": "ipython",
    "version": 3
   },
   "file_extension": ".py",
   "mimetype": "text/x-python",
   "name": "python",
   "nbconvert_exporter": "python",
   "pygments_lexer": "ipython3",
   "version": "3.7.10"
  }
 },
 "nbformat": 4,
 "nbformat_minor": 4
}
